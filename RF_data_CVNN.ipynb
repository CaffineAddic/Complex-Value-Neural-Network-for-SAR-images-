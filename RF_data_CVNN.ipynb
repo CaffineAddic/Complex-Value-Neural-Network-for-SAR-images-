{
 "cells": [
  {
   "cell_type": "code",
   "execution_count": 1,
   "metadata": {},
   "outputs": [
    {
     "name": "stderr",
     "output_type": "stream",
     "text": [
      "2023-08-07 20:57:34.614130: I tensorflow/tsl/cuda/cudart_stub.cc:28] Could not find cuda drivers on your machine, GPU will not be used.\n",
      "2023-08-07 20:57:34.846919: I tensorflow/tsl/cuda/cudart_stub.cc:28] Could not find cuda drivers on your machine, GPU will not be used.\n",
      "2023-08-07 20:57:34.850352: I tensorflow/core/platform/cpu_feature_guard.cc:182] This TensorFlow binary is optimized to use available CPU instructions in performance-critical operations.\n",
      "To enable the following instructions: AVX2 FMA, in other operations, rebuild TensorFlow with the appropriate compiler flags.\n",
      "2023-08-07 20:57:37.110052: W tensorflow/compiler/tf2tensorrt/utils/py_utils.cc:38] TF-TRT Warning: Could not find TensorRT\n"
     ]
    }
   ],
   "source": [
    "import pandas as pd\n",
    "import cvnn\n",
    "import numpy as np\n",
    "import tensorflow as tf\n",
    "import matplotlib.pyplot as plt\n",
    "from sklearn.model_selection import train_test_split\n",
    "from tensorflow.keras.utils import to_categorical\n",
    "import cvnn.layers as complex_layers"
   ]
  },
  {
   "cell_type": "code",
   "execution_count": 2,
   "metadata": {},
   "outputs": [],
   "source": [
    "# path = '/home/saumya/Documents/NRSC SAR CVNN/Data_Kaggle/'\n",
    "file_name = 'logged_data.csv'"
   ]
  },
  {
   "cell_type": "code",
   "execution_count": 3,
   "metadata": {},
   "outputs": [],
   "source": [
    "path = '/home/saumya/Downloads/archive/'"
   ]
  },
  {
   "cell_type": "code",
   "execution_count": 4,
   "metadata": {},
   "outputs": [],
   "source": [
    "df = pd.read_csv(path+file_name)"
   ]
  },
  {
   "cell_type": "code",
   "execution_count": 5,
   "metadata": {},
   "outputs": [],
   "source": [
    "sig_data = df[['I/Q Data']]"
   ]
  },
  {
   "cell_type": "code",
   "execution_count": 6,
   "metadata": {},
   "outputs": [
    {
     "data": {
      "text/plain": [
       "Index(['Timestamp', 'Frequency', 'Signal Strength', 'Modulation', 'Bandwidth',\n",
       "       'Location', 'Device Type', 'Antenna Type', 'Temperature', 'Humidity',\n",
       "       'Wind Speed', 'Precipitation', 'Weather Condition', 'Interference Type',\n",
       "       'Battery Level', 'Power Source', 'CPU Usage', 'Memory Usage',\n",
       "       'WiFi Strength', 'Disk Usage', 'System Load', 'Latitude', 'Longitude',\n",
       "       'Altitude(m)', 'Air Pressure', 'Device Status', 'I/Q Data'],\n",
       "      dtype='object')"
      ]
     },
     "execution_count": 6,
     "metadata": {},
     "output_type": "execute_result"
    }
   ],
   "source": [
    "df.columns"
   ]
  },
  {
   "cell_type": "code",
   "execution_count": 7,
   "metadata": {},
   "outputs": [],
   "source": [
    "# dropped_dat = mod_data.dropna(subset=['I/Q Data'])"
   ]
  },
  {
   "cell_type": "code",
   "execution_count": 8,
   "metadata": {},
   "outputs": [],
   "source": [
    "mod_data = df[['Modulation']]"
   ]
  },
  {
   "cell_type": "code",
   "execution_count": 9,
   "metadata": {},
   "outputs": [],
   "source": [
    "kill = sig_data.to_numpy()"
   ]
  },
  {
   "cell_type": "code",
   "execution_count": 10,
   "metadata": {},
   "outputs": [
    {
     "data": {
      "text/plain": [
       "<bound method NDFrame.head of        Modulation\n",
       "0             QAM\n",
       "1              FM\n",
       "2            BPSK\n",
       "3              FM\n",
       "4            8PSK\n",
       "...           ...\n",
       "164155       BPSK\n",
       "164156        QAM\n",
       "164157         FM\n",
       "164158         AM\n",
       "164159        QAM\n",
       "\n",
       "[164160 rows x 1 columns]>"
      ]
     },
     "execution_count": 10,
     "metadata": {},
     "output_type": "execute_result"
    }
   ],
   "source": [
    "mod_data.head"
   ]
  },
  {
   "cell_type": "code",
   "execution_count": 11,
   "metadata": {},
   "outputs": [
    {
     "data": {
      "text/plain": [
       "numpy.ndarray"
      ]
     },
     "execution_count": 11,
     "metadata": {},
     "output_type": "execute_result"
    }
   ],
   "source": [
    "type(kill)"
   ]
  },
  {
   "cell_type": "code",
   "execution_count": 12,
   "metadata": {},
   "outputs": [
    {
     "data": {
      "text/plain": [
       "<bound method NDFrame.head of                                                  I/Q Data\n",
       "0       [(-0.7204492334669581-0.13150053996590505j), (...\n",
       "1       [(-0.9514742558373084-0.2713158600194827j), (-...\n",
       "2       [(0.2227144792597957+0.958588241755097j), (0.2...\n",
       "3       [(-0.3238055039162817+0.855187296295747j), (-0...\n",
       "4       [(-0.30500282741187124-0.26473341302686326j), ...\n",
       "...                                                   ...\n",
       "164155                                                NaN\n",
       "164156  [(0.422699343591572-0.15593878327635813j), (-0...\n",
       "164157  [(-0.38864953860429763+0.49756532341273485j), ...\n",
       "164158                                                NaN\n",
       "164159  [(-0.0684310407586004+0.8498184213877231j), (0...\n",
       "\n",
       "[164160 rows x 1 columns]>"
      ]
     },
     "execution_count": 12,
     "metadata": {},
     "output_type": "execute_result"
    }
   ],
   "source": [
    "sig_data.head"
   ]
  },
  {
   "cell_type": "code",
   "execution_count": 15,
   "metadata": {},
   "outputs": [],
   "source": [
    "y = kill[0][0]"
   ]
  },
  {
   "cell_type": "code",
   "execution_count": 23,
   "metadata": {},
   "outputs": [
    {
     "data": {
      "text/plain": [
       "str"
      ]
     },
     "execution_count": 23,
     "metadata": {},
     "output_type": "execute_result"
    }
   ],
   "source": [
    "type(y)"
   ]
  },
  {
   "cell_type": "code",
   "execution_count": 22,
   "metadata": {},
   "outputs": [
    {
     "data": {
      "text/plain": [
       "'[(-0.7204492334669581-0.13150053996590505j), (-0.3926827253539249-0.8993025456692934j), (0.0928841616651408-0.8159835412364065j), (-0.43417867116452613+0.6100610382324783j), (-0.9087659387147864-0.5270977132214645j), (-0.1599851859856971+0.586071706235473j), (-0.3526152744629423-0.47795780039996183j), (-0.31371136982863823+0.8964364046850646j), (0.4734905878961868-0.5906936556174811j), (-0.7541233218133303+0.6386091454230731j), (0.7633561651270269-0.5867757137018381j), (-0.018073230012125352+0.7889536156668844j), (-0.8136689152748868-0.47335097362927825j), (0.04613163397118103-0.668152054188752j), (0.1071017958541689-0.39181079400247243j), (0.9712649862913028-0.9349674429777335j), (-0.22580080869773989-0.040657828217764314j), (-0.9542580938472323-0.6157879656579652j), (-0.5252657738320654+0.7875311857466449j), (0.7290268415352348-0.44795587690232086j), (-0.13197563096475662-0.45139727309978794j), (-0.19325697155372912-0.040677925589494235j), (-0.9810073349943458-0.15215307853210103j), (-0.2648331683635208+0.6653230624606421j), (0.986249858461498+0.13107633461140855j), (-0.4577040608166174+0.9651029537789457j), (-0.8790266656454073-0.009838299961940855j), (-0.254317611810035-0.7748883689658639j), (0.7050426862767123-0.9772981280083193j), (-0.255291066115237+0.9355568312639035j), (0.7397436111414204-0.19974334500828816j), (0.6504881650738379+0.3744208053572413j), (-0.38203776796541344+0.773837671718558j), (-0.6308724704337207+0.4015264048589642j), (0.39361613604625156-0.7179207973732855j), (0.20296738981161466+0.2052187842140507j), (-0.6390318819487264+0.5889127153769202j), (0.5625238294341643+0.7380992324540703j), (0.9875343505267289+0.3206700805218823j), (-0.2927944057525085+0.6316432028825898j), (-0.6634166609818539+0.9597713834844102j), (0.10789697788940122+0.9939973995193632j), (-0.013067329535097816+0.02673954041720794j), (-0.9656764808384368+0.5878308924248652j), (0.6508339641035945-0.15266479372796482j), (0.3621131580589978-0.5628178444854604j), (-0.5202486519279372+0.9336935568878086j), (-0.2227863736355291-0.44403879155201853j), (0.4070483992027938+0.9794279502385717j), (0.5584238364965655+0.6432989541012237j), (-0.23826899622565767-0.6646792032749536j), (0.5430125389559304-0.9410791893261929j), (-0.619283291037733-0.9872963415555813j), (-0.16005309607619922+0.3495442006303364j), (0.5340788847499311+0.9425485415363326j), (-0.6333038095139589-0.5403051365289435j), (0.11551825433093588-0.8353668311103626j), (-0.5068105964646665-0.8103214926308724j), (0.5201958440834478+0.1821052552966167j), (0.802042451840435+0.19770220392020943j), (0.35313784551516836+0.40957902952071934j), (-0.8317569396219264+0.6826180272824034j), (0.2692850949225043-0.7901245879206917j), (0.8255760315712419-0.07747682748353935j), (-0.5967749026331661+0.6425074266005673j), (0.24817918259781369-0.5907420120982045j), (-0.15562476997386931-0.559866571997776j), (-0.5710412947944326-0.38851282320960623j), (-0.17874639245974877+0.129749848005265j), (-0.2418654439438721+0.6112002893443582j), (0.12377242217630946+0.9582169493639048j), (-0.1953059106187045+0.926085112836921j), (-0.2688199071912627-0.7588480184538615j), (-0.02368085258100261-0.43557198468026503j), (-0.750471818285249-0.407876160230892j), (0.9702960685422692-0.17455391250538055j), (0.43025808337961435+0.5270519357076171j), (-0.7785472442253203-0.6197193938730128j), (0.17274799880469738-0.26374452973249185j), (-0.2712154267689655-0.18794622834078334j), (-0.3491397679928976-0.8239709321892135j), (-0.3384776000433145-0.9889205620556505j), (0.47244344050389353-0.7124370116001673j), (0.4339823514505987+0.3266488430669392j), (0.3700534829079569+0.3393205953798093j), (0.42209865591636664+0.6576712133898699j), (0.8919497952222186-0.7267191999271196j), (0.7295916648291279+0.9045758896906899j), (-0.0011840076018900803-0.3839369668731736j), (0.3830658665789006+0.2645087658270817j), (0.760926678290962-0.766440872621049j), (0.5498252765178568+0.3227381123804822j), (0.7115673094385653+0.7615334805282079j), (-0.48393469414045676+0.5516098247744106j), (-0.8001739406052633+0.06408701645192294j), (0.5833182572174251-0.1525565465198968j), (-0.6533856220672505+0.011177047329678613j), (0.10735564625491367-0.16380357515072363j), (-0.2183016662851196-0.09826175271433191j), (-0.024589597616854864-0.9277093431048022j)]'"
      ]
     },
     "execution_count": 22,
     "metadata": {},
     "output_type": "execute_result"
    }
   ],
   "source": [
    "y"
   ]
  },
  {
   "cell_type": "code",
   "execution_count": 20,
   "metadata": {},
   "outputs": [
    {
     "name": "stderr",
     "output_type": "stream",
     "text": [
      "/tmp/ipykernel_13788/2438144883.py:1: DeprecationWarning: The binary mode of fromstring is deprecated, as it behaves surprisingly on unicode inputs. Use frombuffer instead\n",
      "  h = np.fromstring(y, dtype=np.complex64, sep='')\n"
     ]
    },
    {
     "ename": "ValueError",
     "evalue": "string size must be a multiple of element size",
     "output_type": "error",
     "traceback": [
      "\u001b[0;31m---------------------------------------------------------------------------\u001b[0m",
      "\u001b[0;31mValueError\u001b[0m                                Traceback (most recent call last)",
      "Cell \u001b[0;32mIn[20], line 1\u001b[0m\n\u001b[0;32m----> 1\u001b[0m h \u001b[39m=\u001b[39m np\u001b[39m.\u001b[39;49mfromstring(y, dtype\u001b[39m=\u001b[39;49mnp\u001b[39m.\u001b[39;49mcomplex64, sep\u001b[39m=\u001b[39;49m\u001b[39m'\u001b[39;49m\u001b[39m'\u001b[39;49m)\n",
      "\u001b[0;31mValueError\u001b[0m: string size must be a multiple of element size"
     ]
    }
   ],
   "source": [
    "h = np.fromstring(y, dtype=np.complex64, sep='')"
   ]
  },
  {
   "cell_type": "code",
   "execution_count": null,
   "metadata": {},
   "outputs": [],
   "source": []
  },
  {
   "cell_type": "code",
   "execution_count": null,
   "metadata": {},
   "outputs": [],
   "source": []
  }
 ],
 "metadata": {
  "kernelspec": {
   "display_name": "tf2",
   "language": "python",
   "name": "python3"
  },
  "language_info": {
   "codemirror_mode": {
    "name": "ipython",
    "version": 3
   },
   "file_extension": ".py",
   "mimetype": "text/x-python",
   "name": "python",
   "nbconvert_exporter": "python",
   "pygments_lexer": "ipython3",
   "version": "3.9.16"
  },
  "orig_nbformat": 4
 },
 "nbformat": 4,
 "nbformat_minor": 2
}
