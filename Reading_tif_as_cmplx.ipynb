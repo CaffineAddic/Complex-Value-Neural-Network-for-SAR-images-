{
 "cells": [
  {
   "cell_type": "code",
   "execution_count": 2,
   "metadata": {},
   "outputs": [],
   "source": [
    "import rasterio as rio\n",
    "#https://stackoverflow.com/questions/67903219/how-to-read-multiband-image-files-with-more-than-4-bands-in-python\n",
    "\n",
    "\n",
    "# import georasters as gt\n",
    "import matplotlib.pyplot as plt\n",
    "import numpy as np"
   ]
  },
  {
   "cell_type": "code",
   "execution_count": 3,
   "metadata": {},
   "outputs": [],
   "source": [
    "data_loc = '/home/saumya/Documents/NRSC SAR CVNN/MRSDP_SEMSEG_EOS4/Complex combined images/'\n",
    "# data_loc = '/home/saumya/Documents/NRSC internship/Dataset/MRSDP_SEMSEG_EOS4/Complex combined images/'\n",
    "\n",
    "loc_list = ['imagery_HH_421.tif', 'imagery_HH_521.tif', 'imagery_HH_721.tif']\n",
    "goblin = '.npy'"
   ]
  },
  {
   "cell_type": "code",
   "execution_count": 5,
   "metadata": {},
   "outputs": [],
   "source": [
    "# for i in range(3):\n",
    "#     dat = rio.open(data_loc + loc_list[i])\n",
    "#     arr1 = dat.read(1)\n",
    "#     arr2 = dat.read(2)\n",
    "#     arr3 = np.array(arr1 + 1j*arr2)\n",
    "#     # arr3 = arr3.reshape(8371, 13619)\n",
    "#     np.save(data_loc+loc_list[i], arr3)"
   ]
  },
  {
   "cell_type": "code",
   "execution_count": 6,
   "metadata": {},
   "outputs": [],
   "source": [
    "for i in range(3):\n",
    "    exec(f'file_{i} = np.load(data_loc + loc_list[{i}] + goblin)')"
   ]
  },
  {
   "cell_type": "code",
   "execution_count": 7,
   "metadata": {},
   "outputs": [
    {
     "name": "stdout",
     "output_type": "stream",
     "text": [
      "data_loc\t file_0\t file_1\t file_2\t goblin\t i\t loc_list\t np\t plt\t \n",
      "rio\t \n"
     ]
    }
   ],
   "source": [
    "%who"
   ]
  },
  {
   "cell_type": "code",
   "execution_count": 11,
   "metadata": {},
   "outputs": [
    {
     "data": {
      "text/plain": [
       "(-424+410j)"
      ]
     },
     "execution_count": 11,
     "metadata": {},
     "output_type": "execute_result"
    }
   ],
   "source": [
    "file_1[0][0]"
   ]
  },
  {
   "cell_type": "code",
   "execution_count": null,
   "metadata": {},
   "outputs": [],
   "source": []
  }
 ],
 "metadata": {
  "kernelspec": {
   "display_name": "tf",
   "language": "python",
   "name": "python3"
  },
  "language_info": {
   "codemirror_mode": {
    "name": "ipython",
    "version": 3
   },
   "file_extension": ".py",
   "mimetype": "text/x-python",
   "name": "python",
   "nbconvert_exporter": "python",
   "pygments_lexer": "ipython3",
   "version": "3.9.17"
  },
  "orig_nbformat": 4
 },
 "nbformat": 4,
 "nbformat_minor": 2
}
