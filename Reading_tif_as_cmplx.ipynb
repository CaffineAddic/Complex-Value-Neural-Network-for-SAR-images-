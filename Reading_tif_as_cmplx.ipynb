{
 "cells": [
  {
   "cell_type": "code",
   "execution_count": 8,
   "metadata": {},
   "outputs": [],
   "source": [
    "import rasterio as rio\n",
    "#https://stackoverflow.com/questions/67903219/how-to-read-multiband-image-files-with-more-than-4-bands-in-python\n",
    "\n",
    "\n",
    "# import georasters as gt\n",
    "import matplotlib.pyplot as plt\n",
    "import numpy as np"
   ]
  },
  {
   "cell_type": "code",
   "execution_count": 9,
   "metadata": {},
   "outputs": [],
   "source": [
    "data_loc = '/home/saumya/Documents/NRSC internship/Dataset/MRSDP_SLC_DATA/EOS4_FRS1_SLC/Pauli_Lee5X5/'\n",
    "\n",
    "# loc_list = ['imagery_HH_421.tif', 'imagery_HH_521.tif', 'imagery_HH_721.tif']\n",
    "# goblin = '.npy'"
   ]
  },
  {
   "cell_type": "code",
   "execution_count": 10,
   "metadata": {},
   "outputs": [],
   "source": [
    "# for i in range(3):\n",
    "#     dat = rio.open(data_loc + loc_list[i])\n",
    "#     arr1 = dat.read(1)\n",
    "#     arr2 = dat.read(2)\n",
    "#     arr3 = np.array(arr1 + 1j*arr2)\n",
    "#     # arr3 = arr3.reshape(8371, 13619)\n",
    "#     np.save(data_loc+loc_list[i], arr3)"
   ]
  },
  {
   "cell_type": "code",
   "execution_count": 11,
   "metadata": {},
   "outputs": [],
   "source": [
    "img = 'Pauli_RGB.tif'"
   ]
  },
  {
   "cell_type": "code",
   "execution_count": 12,
   "metadata": {},
   "outputs": [],
   "source": [
    "dat = rio.open(data_loc + img)"
   ]
  },
  {
   "cell_type": "code",
   "execution_count": 19,
   "metadata": {},
   "outputs": [],
   "source": [
    "arr2 = dat.read(2)\n",
    "arr3 = dat.read(3)\n",
    "arr1 = dat.read(1)"
   ]
  },
  {
   "cell_type": "code",
   "execution_count": 21,
   "metadata": {},
   "outputs": [
    {
     "data": {
      "text/plain": [
       "array([[1.4401385e+06, 1.3961425e+06, 2.8346000e+04, ..., 6.8868020e+06,\n",
       "        6.8896832e+07, 3.8132328e+07],\n",
       "       [1.8730850e+06, 1.0058900e+05, 4.6197450e+05, ..., 7.6935065e+06,\n",
       "        1.6551385e+06, 6.1635140e+06],\n",
       "       [7.6974500e+04, 2.7981650e+06, 3.8659450e+05, ..., 1.4818625e+06,\n",
       "        4.1006500e+05, 2.0642885e+06],\n",
       "       ...,\n",
       "       [4.4512450e+05, 8.6517000e+04, 1.5153625e+06, ..., 4.6442500e+04,\n",
       "        6.4190500e+05, 1.9766920e+06],\n",
       "       [1.5166480e+06, 2.5126250e+05, 1.6634545e+06, ..., 1.1689330e+06,\n",
       "        4.2428250e+05, 1.1361250e+06],\n",
       "       [1.4680250e+05, 1.0770365e+06, 3.8076650e+05, ..., 3.3930650e+05,\n",
       "        5.9512500e+04, 6.3544050e+05]], dtype=float32)"
      ]
     },
     "execution_count": 21,
     "metadata": {},
     "output_type": "execute_result"
    }
   ],
   "source": [
    "arr1"
   ]
  },
  {
   "cell_type": "code",
   "execution_count": null,
   "metadata": {},
   "outputs": [],
   "source": []
  }
 ],
 "metadata": {
  "kernelspec": {
   "display_name": "tf",
   "language": "python",
   "name": "python3"
  },
  "language_info": {
   "codemirror_mode": {
    "name": "ipython",
    "version": 3
   },
   "file_extension": ".py",
   "mimetype": "text/x-python",
   "name": "python",
   "nbconvert_exporter": "python",
   "pygments_lexer": "ipython3",
   "version": "3.9.16"
  },
  "orig_nbformat": 4
 },
 "nbformat": 4,
 "nbformat_minor": 2
}
