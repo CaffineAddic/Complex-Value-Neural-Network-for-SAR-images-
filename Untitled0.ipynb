{
  "nbformat": 4,
  "nbformat_minor": 0,
  "metadata": {
    "colab": {
      "provenance": [],
      "gpuType": "T4",
      "cell_execution_strategy": "setup",
      "private_outputs": true
    },
    "kernelspec": {
      "name": "python3",
      "display_name": "Python 3"
    },
    "language_info": {
      "name": "python"
    },
    "accelerator": "GPU"
  },
  "cells": [
    {
      "cell_type": "code",
      "execution_count": null,
      "metadata": {
        "id": "iAKDpsVctihn"
      },
      "outputs": [],
      "source": [
        "import numpy as np\n",
        "import pandas as pd\n",
        "# import tensorflow as tf\n",
        "import matplotlib.pyplot as plt\n",
        "!pip install cvnn"
      ]
    },
    {
      "cell_type": "code",
      "source": [
        "from tensorflow.keras import datasets\n",
        "from tensorflow.keras.utils import to_categorical\n",
        "\n",
        "# (train_images, train_labels), (test_images, test_labels) = datasets.cifar10.load_data()\n",
        "# train_images, test_images = train_images.astype(dtype=np.complex64) / 255.0, test_images.astype(dtype=np.complex64) / 255.0\n",
        "# train_labels = to_categorical(train_labels, 10)\n",
        "# test_labels = to_categorical(test_labels, 10)"
      ],
      "metadata": {
        "id": "igTza9lKt3wF"
      },
      "execution_count": null,
      "outputs": []
    },
    {
      "cell_type": "code",
      "source": [
        "# train_images.shape"
      ],
      "metadata": {
        "id": "ySqB86IeXQbt"
      },
      "execution_count": null,
      "outputs": []
    },
    {
      "cell_type": "code",
      "source": [
        "# plt.imshow(train_images[1].astype(dtype=np.float64))"
      ],
      "metadata": {
        "id": "gpkgKDx4w2bQ"
      },
      "execution_count": null,
      "outputs": []
    },
    {
      "cell_type": "code",
      "source": [
        "# train_labels[1]"
      ],
      "metadata": {
        "id": "2USVOaLMzP1H"
      },
      "execution_count": null,
      "outputs": []
    },
    {
      "cell_type": "code",
      "source": [
        "from tensorflow.keras import models\n",
        "import tensorflow.keras.layers as layers\n",
        "\n",
        "def get_tf_sequential_model():\n",
        "    model = models.Sequential()\n",
        "    model.add(layers.Input(shape=(32, 32, 3)))   # Always use ComplexInput at the start\n",
        "    model.add(layers.Conv2D(32, (3, 3), activation=\"relu\"))\n",
        "    model.add(layers.MaxPooling2D((2, 2)))\n",
        "    model.add(layers.Conv2D(64, (3, 3), activation=\"relu\"))\n",
        "    model.add(layers.MaxPooling2D((2, 2)))\n",
        "    model.add(layers.Conv2D(64, (3, 3), activation=\"relu\"))\n",
        "    model.add(layers.Flatten())\n",
        "    model.add(layers.Dense(64, activation=\"relu\"))\n",
        "    model.add(layers.Dense(10, activation='softmax'))\n",
        "    return model\n",
        "\n",
        "get_tf_sequential_model().summary()"
      ],
      "metadata": {
        "id": "80jDtfHO08fk"
      },
      "execution_count": null,
      "outputs": []
    },
    {
      "cell_type": "code",
      "source": [
        "import cvnn.layers as complex_layers\n",
        "\n",
        "def get_cvnn_sequential_model():\n",
        "    model = models.Sequential()\n",
        "    model.add(complex_layers.ComplexInput(input_shape=(32, 32, 3)))   # Always use ComplexInput at the start\n",
        "    # model.add(complex_layers.ComplexDropout(.5))\n",
        "    model.add(complex_layers.ComplexConv2D(32, (3, 3), activation=\"cart_relu\"))\n",
        "    model.add(complex_layers.ComplexMaxPooling2D((2, 2)))\n",
        "    model.add(complex_layers.ComplexDropout(.5))\n",
        "    model.add(complex_layers.ComplexConv2D(16, (3, 3), activation=\"cart_relu\"))\n",
        "    model.add(complex_layers.ComplexMaxPooling2D((2, 2)))\n",
        "    model.add(complex_layers.ComplexDropout(.5))\n",
        "    model.add(complex_layers.ComplexConv2D(64, (3, 3), activation=\"cart_relu\"))\n",
        "    model.add(complex_layers.ComplexFlatten())\n",
        "    model.add(complex_layers.ComplexDense(64, activation=\"cart_relu\"))\n",
        "    model.add(complex_layers.ComplexDense(32, activation=\"cart_relu\"))\n",
        "    model.add(complex_layers.ComplexDense(10, activation='softmax_real_with_abs'))\n",
        "    return model\n",
        "\n",
        "get_cvnn_sequential_model().summary()"
      ],
      "metadata": {
        "id": "mqJB1VZb3MP9"
      },
      "execution_count": null,
      "outputs": []
    },
    {
      "cell_type": "code",
      "source": [
        "# from tensorflow import losses, metrics\n",
        "\n",
        "# model_cvnn_real = get_cvnn_sequential_model()\n",
        "# model_cvnn_real.compile(optimizer='sgd', loss='categorical_crossentropy', metrics='accuracy')\n",
        "\n",
        "# history = model_cvnn_real.fit(train_images, train_labels, epochs=100, validation_data=(test_images, test_labels),batch_size=32)\n"
      ],
      "metadata": {
        "id": "nUn_Jc-33fbi"
      },
      "execution_count": null,
      "outputs": []
    },
    {
      "cell_type": "code",
      "source": [
        "# model_tf_real = get_tf_sequential_model()\n",
        "# model_tf_real.compile(optimizer='sgd', loss='categorical_crossentropy', metrics='accuracy')\n",
        "\n",
        "# history = model_tf_real.fit(train_images, train_labels, epochs=100, validation_data=(test_images, test_labels),batch_size=32)\n"
      ],
      "metadata": {
        "id": "amzEDQP539Zn"
      },
      "execution_count": null,
      "outputs": []
    },
    {
      "cell_type": "code",
      "source": [
        "#transformig the data into complex plane using hilbert's transform\n",
        "import scipy\n",
        "\n",
        "(train_images, train_labels), (test_images, test_labels) = datasets.cifar10.load_data()\n",
        "train_images, test_images = scipy.signal.hilbert(train_images, axis = -1) / 255, scipy.signal.hilbert(test_images, axis = -1) / 255\n",
        "\n",
        "train_labels = to_categorical(train_labels, 10)\n",
        "test_labels = to_categorical(test_labels, 10)"
      ],
      "metadata": {
        "id": "JNDG1VKaBSXp"
      },
      "execution_count": null,
      "outputs": []
    },
    {
      "cell_type": "code",
      "source": [
        "train_images.shape"
      ],
      "metadata": {
        "id": "iTtiaohpW2lC"
      },
      "execution_count": null,
      "outputs": []
    },
    {
      "cell_type": "code",
      "source": [
        "from tensorflow import losses, metrics\n",
        "\n",
        "model_cvnn_hil = get_cvnn_sequential_model()\n",
        "model_cvnn_hil.compile(optimizer='adam', loss='categorical_crossentropy', metrics='accuracy')\n",
        "\n",
        "history = model_cvnn_hil.fit(train_images, train_labels, epochs=100, validation_data=(test_images, test_labels),batch_size=32)"
      ],
      "metadata": {
        "id": "EvJbbquzU5TZ"
      },
      "execution_count": null,
      "outputs": []
    },
    {
      "cell_type": "code",
      "source": [],
      "metadata": {
        "id": "w0yG_1SXy8yY"
      },
      "execution_count": null,
      "outputs": []
    },
    {
      "cell_type": "code",
      "source": [
        "from tensorflow import losses, metrics\n",
        "\n",
        "model_tf_hil = get_tf_sequential_model()\n",
        "model_tf_hil.compile(optimizer='sgd', loss='categorical_crossentropy', metrics='accuracy')\n",
        "\n",
        "history = model_tf_hil.fit(train_images, train_labels, epochs=100, validation_data=(test_images, test_labels),batch_size=32)"
      ],
      "metadata": {
        "id": "hbdD_XznVnLo"
      },
      "execution_count": null,
      "outputs": []
    }
  ]
}