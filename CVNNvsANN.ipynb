{
 "cells": [
  {
   "cell_type": "code",
   "execution_count": 1,
   "metadata": {},
   "outputs": [],
   "source": [
    "import os\n",
    "from imageio import imread\n",
    "from pathlib import Path\n",
    "import numpy as np"
   ]
  },
  {
   "cell_type": "code",
   "execution_count": 2,
   "metadata": {},
   "outputs": [],
   "source": [
    "from sklearn.model_selection import train_test_split"
   ]
  },
  {
   "cell_type": "code",
   "execution_count": 3,
   "metadata": {},
   "outputs": [
    {
     "name": "stderr",
     "output_type": "stream",
     "text": [
      "2023-08-06 01:17:56.042533: I tensorflow/core/platform/cpu_feature_guard.cc:182] This TensorFlow binary is optimized to use available CPU instructions in performance-critical operations.\n",
      "To enable the following instructions: AVX2 FMA, in other operations, rebuild TensorFlow with the appropriate compiler flags.\n",
      "2023-08-06 01:17:57.208626: W tensorflow/compiler/tf2tensorrt/utils/py_utils.cc:38] TF-TRT Warning: Could not find TensorRT\n"
     ]
    }
   ],
   "source": [
    "from tensorflow.keras import datasets\n",
    "from tensorflow.keras.utils import to_categorical\n",
    "\n",
    "(train_images_org, train_labels), (test_images_org, test_labels) = datasets.cifar10.load_data()\n",
    "# train_images_img, test_images_img = train_images_org.astype(dtype=np.complex64) / 255.0, test_images_org.astype(dtype=np.complex64) / 255.0\n",
    "train_labels = to_categorical(train_labels, 10)\n",
    "test_labels = to_categorical(test_labels, 10)"
   ]
  },
  {
   "cell_type": "code",
   "execution_count": 4,
   "metadata": {},
   "outputs": [],
   "source": [
    "def dataset_split(train_img, train_labels):\n",
    "\n",
    "    train_dat, train_label, val_dat, val_labels = train_test_split(train_img, train_labels, test_size=.1) \n",
    "\n",
    "    return train_dat, train_label, val_dat, val_labels  "
   ]
  },
  {
   "cell_type": "code",
   "execution_count": 5,
   "metadata": {},
   "outputs": [],
   "source": [
    "train_images_org, val_images_org, train_labels, val_labels = dataset_split(train_images_org, train_labels)"
   ]
  },
  {
   "cell_type": "code",
   "execution_count": 6,
   "metadata": {},
   "outputs": [
    {
     "data": {
      "text/plain": [
       "(45000, 10)"
      ]
     },
     "execution_count": 6,
     "metadata": {},
     "output_type": "execute_result"
    }
   ],
   "source": [
    "train_labels.shape"
   ]
  },
  {
   "cell_type": "code",
   "execution_count": 7,
   "metadata": {},
   "outputs": [
    {
     "name": "stdout",
     "output_type": "stream",
     "text": [
      "Model: \"sequential\"\n",
      "_________________________________________________________________\n",
      " Layer (type)                Output Shape              Param #   \n",
      "=================================================================\n",
      " conv2d (Conv2D)             (None, 30, 30, 32)        896       \n",
      "                                                                 \n",
      " max_pooling2d (MaxPooling2  (None, 15, 15, 32)        0         \n",
      " D)                                                              \n",
      "                                                                 \n",
      " conv2d_1 (Conv2D)           (None, 13, 13, 64)        18496     \n",
      "                                                                 \n",
      " max_pooling2d_1 (MaxPoolin  (None, 6, 6, 64)          0         \n",
      " g2D)                                                            \n",
      "                                                                 \n",
      " conv2d_2 (Conv2D)           (None, 4, 4, 64)          36928     \n",
      "                                                                 \n",
      " flatten (Flatten)           (None, 1024)              0         \n",
      "                                                                 \n",
      " dense (Dense)               (None, 64)                65600     \n",
      "                                                                 \n",
      " dense_1 (Dense)             (None, 10)                650       \n",
      "                                                                 \n",
      "=================================================================\n",
      "Total params: 122570 (478.79 KB)\n",
      "Trainable params: 122570 (478.79 KB)\n",
      "Non-trainable params: 0 (0.00 Byte)\n",
      "_________________________________________________________________\n"
     ]
    },
    {
     "name": "stderr",
     "output_type": "stream",
     "text": [
      "2023-08-06 01:17:59.424518: I tensorflow/compiler/xla/stream_executor/cuda/cuda_gpu_executor.cc:995] successful NUMA node read from SysFS had negative value (-1), but there must be at least one NUMA node, so returning NUMA node zero. See more at https://github.com/torvalds/linux/blob/v6.0/Documentation/ABI/testing/sysfs-bus-pci#L344-L355\n",
      "2023-08-06 01:17:59.741739: I tensorflow/compiler/xla/stream_executor/cuda/cuda_gpu_executor.cc:995] successful NUMA node read from SysFS had negative value (-1), but there must be at least one NUMA node, so returning NUMA node zero. See more at https://github.com/torvalds/linux/blob/v6.0/Documentation/ABI/testing/sysfs-bus-pci#L344-L355\n",
      "2023-08-06 01:17:59.742021: I tensorflow/compiler/xla/stream_executor/cuda/cuda_gpu_executor.cc:995] successful NUMA node read from SysFS had negative value (-1), but there must be at least one NUMA node, so returning NUMA node zero. See more at https://github.com/torvalds/linux/blob/v6.0/Documentation/ABI/testing/sysfs-bus-pci#L344-L355\n",
      "2023-08-06 01:17:59.743681: I tensorflow/compiler/xla/stream_executor/cuda/cuda_gpu_executor.cc:995] successful NUMA node read from SysFS had negative value (-1), but there must be at least one NUMA node, so returning NUMA node zero. See more at https://github.com/torvalds/linux/blob/v6.0/Documentation/ABI/testing/sysfs-bus-pci#L344-L355\n",
      "2023-08-06 01:17:59.744002: I tensorflow/compiler/xla/stream_executor/cuda/cuda_gpu_executor.cc:995] successful NUMA node read from SysFS had negative value (-1), but there must be at least one NUMA node, so returning NUMA node zero. See more at https://github.com/torvalds/linux/blob/v6.0/Documentation/ABI/testing/sysfs-bus-pci#L344-L355\n",
      "2023-08-06 01:17:59.744206: I tensorflow/compiler/xla/stream_executor/cuda/cuda_gpu_executor.cc:995] successful NUMA node read from SysFS had negative value (-1), but there must be at least one NUMA node, so returning NUMA node zero. See more at https://github.com/torvalds/linux/blob/v6.0/Documentation/ABI/testing/sysfs-bus-pci#L344-L355\n",
      "2023-08-06 01:17:59.817013: I tensorflow/compiler/xla/stream_executor/cuda/cuda_gpu_executor.cc:995] successful NUMA node read from SysFS had negative value (-1), but there must be at least one NUMA node, so returning NUMA node zero. See more at https://github.com/torvalds/linux/blob/v6.0/Documentation/ABI/testing/sysfs-bus-pci#L344-L355\n",
      "2023-08-06 01:17:59.817486: I tensorflow/compiler/xla/stream_executor/cuda/cuda_gpu_executor.cc:995] successful NUMA node read from SysFS had negative value (-1), but there must be at least one NUMA node, so returning NUMA node zero. See more at https://github.com/torvalds/linux/blob/v6.0/Documentation/ABI/testing/sysfs-bus-pci#L344-L355\n",
      "2023-08-06 01:17:59.817685: I tensorflow/compiler/xla/stream_executor/cuda/cuda_gpu_executor.cc:995] successful NUMA node read from SysFS had negative value (-1), but there must be at least one NUMA node, so returning NUMA node zero. See more at https://github.com/torvalds/linux/blob/v6.0/Documentation/ABI/testing/sysfs-bus-pci#L344-L355\n",
      "2023-08-06 01:17:59.817812: I tensorflow/core/common_runtime/gpu/gpu_device.cc:1639] Created device /job:localhost/replica:0/task:0/device:GPU:0 with 2797 MB memory:  -> device: 0, name: NVIDIA GeForce GTX 1650, pci bus id: 0000:01:00.0, compute capability: 7.5\n"
     ]
    }
   ],
   "source": [
    "from tensorflow.keras import models\n",
    "import tensorflow.keras.layers as layers\n",
    "\n",
    "def get_tf_sequential_model():\n",
    "    model = models.Sequential()\n",
    "    model.add(layers.Input(shape=(32, 32, 3)))   # Always use ComplexInput at the start\n",
    "    model.add(layers.Conv2D(32, (3, 3), activation=\"relu\"))\n",
    "    model.add(layers.MaxPooling2D((2, 2)))\n",
    "    model.add(layers.Conv2D(64, (3, 3), activation=\"relu\"))\n",
    "    model.add(layers.MaxPooling2D((2, 2)))\n",
    "    model.add(layers.Conv2D(64, (3, 3), activation=\"relu\"))\n",
    "    model.add(layers.Flatten())\n",
    "    model.add(layers.Dense(64, activation=\"relu\"))\n",
    "    model.add(layers.Dense(10, activation='softmax'))\n",
    "    return model\n",
    "\n",
    "get_tf_sequential_model().summary()"
   ]
  },
  {
   "cell_type": "code",
   "execution_count": 8,
   "metadata": {},
   "outputs": [
    {
     "name": "stdout",
     "output_type": "stream",
     "text": [
      "Model: \"sequential_1\"\n",
      "_________________________________________________________________\n",
      " Layer (type)                Output Shape              Param #   \n",
      "=================================================================\n",
      " complex_conv2d (ComplexCon  (None, 30, 30, 32)        1792      \n",
      " v2D)                                                            \n",
      "                                                                 \n",
      " complex_max_pooling2d (Com  (None, 15, 15, 32)        0         \n",
      " plexMaxPooling2D)                                               \n",
      "                                                                 \n",
      " complex_conv2d_1 (ComplexC  (None, 13, 13, 64)        36992     \n",
      " onv2D)                                                          \n",
      "                                                                 \n",
      " complex_max_pooling2d_1 (C  (None, 6, 6, 64)          0         \n",
      " omplexMaxPooling2D)                                             \n",
      "                                                                 \n",
      " complex_conv2d_2 (ComplexC  (None, 4, 4, 64)          73856     \n",
      " onv2D)                                                          \n",
      "                                                                 \n",
      " complex_flatten (ComplexFl  (None, 1024)              0         \n",
      " atten)                                                          \n",
      "                                                                 \n",
      " complex_dense (ComplexDens  (None, 64)                131200    \n",
      " e)                                                              \n",
      "                                                                 \n",
      " complex_dense_1 (ComplexDe  (None, 10)                1300      \n",
      " nse)                                                            \n",
      "                                                                 \n",
      "=================================================================\n",
      "Total params: 245140 (957.58 KB)\n",
      "Trainable params: 245140 (957.58 KB)\n",
      "Non-trainable params: 0 (0.00 Byte)\n",
      "_________________________________________________________________\n"
     ]
    }
   ],
   "source": [
    "import cvnn.layers as complex_layers\n",
    "\n",
    "def get_cvnn_sequential_model():\n",
    "    model = models.Sequential()\n",
    "    model.add(complex_layers.ComplexInput(input_shape=(32, 32, 3)))   # Always use ComplexInput at the start\n",
    "    model.add(complex_layers.ComplexConv2D(32, (3, 3), activation=\"cart_relu\"))\n",
    "    model.add(complex_layers.ComplexMaxPooling2D((2, 2)))\n",
    "    model.add(complex_layers.ComplexConv2D(64, (3, 3), activation=\"cart_relu\"))\n",
    "    model.add(complex_layers.ComplexMaxPooling2D((2, 2)))\n",
    "    model.add(complex_layers.ComplexConv2D(64, (3, 3), activation=\"cart_relu\"))\n",
    "    model.add(complex_layers.ComplexFlatten())\n",
    "    model.add(complex_layers.ComplexDense(64, activation=\"cart_relu\"))\n",
    "    model.add(complex_layers.ComplexDense(10, activation='softmax_real_with_abs'))\n",
    "    return model\n",
    "\n",
    "get_cvnn_sequential_model().summary()"
   ]
  },
  {
   "cell_type": "markdown",
   "metadata": {},
   "source": [
    "#### Adding a imaginary component into the real data and running the value and using CVNN"
   ]
  },
  {
   "cell_type": "code",
   "execution_count": 9,
   "metadata": {},
   "outputs": [],
   "source": [
    "# #Running the CVNN model on the data\n",
    "\n",
    "# from tensorflow import losses, metrics\n",
    "\n",
    "# model_cvnn = get_cvnn_sequential_model()\n",
    "# model_cvnn.compile(optimizer='adam', loss='categorical_crossentropy', metrics='accuracy')\n",
    "    \n",
    "# history = model_cvnn.fit(train_images_img, train_labels, epochs=100, validation_data=(test_images_img, test_labels),batch_size=32)"
   ]
  },
  {
   "cell_type": "code",
   "execution_count": 10,
   "metadata": {},
   "outputs": [
    {
     "name": "stdout",
     "output_type": "stream",
     "text": [
      "Epoch 1/10\n"
     ]
    },
    {
     "name": "stderr",
     "output_type": "stream",
     "text": [
      "2023-08-06 01:18:02.563464: I tensorflow/compiler/xla/stream_executor/cuda/cuda_dnn.cc:432] Loaded cuDNN version 8600\n",
      "2023-08-06 01:18:03.645414: I tensorflow/compiler/xla/service/service.cc:168] XLA service 0x879d420 initialized for platform CUDA (this does not guarantee that XLA will be used). Devices:\n",
      "2023-08-06 01:18:03.645450: I tensorflow/compiler/xla/service/service.cc:176]   StreamExecutor device (0): NVIDIA GeForce GTX 1650, Compute Capability 7.5\n",
      "2023-08-06 01:18:03.651433: I tensorflow/compiler/mlir/tensorflow/utils/dump_mlir_util.cc:255] disabling MLIR crash reproducer, set env var `MLIR_CRASH_REPRODUCER_DIRECTORY` to enable.\n",
      "2023-08-06 01:18:03.796529: I ./tensorflow/compiler/jit/device_compiler.h:186] Compiled cluster using XLA!  This line is logged at most once for the lifetime of the process.\n"
     ]
    },
    {
     "name": "stdout",
     "output_type": "stream",
     "text": [
      "1407/1407 [==============================] - 10s 4ms/step - loss: 1.8901 - accuracy: 0.3484 - val_loss: 1.5228 - val_accuracy: 0.4512\n",
      "Epoch 2/10\n",
      "1407/1407 [==============================] - 6s 4ms/step - loss: 1.4077 - accuracy: 0.4936 - val_loss: 1.4040 - val_accuracy: 0.5124\n",
      "Epoch 3/10\n",
      "1407/1407 [==============================] - 5s 4ms/step - loss: 1.2527 - accuracy: 0.5570 - val_loss: 1.2303 - val_accuracy: 0.5644\n",
      "Epoch 4/10\n",
      "1407/1407 [==============================] - 5s 4ms/step - loss: 1.1556 - accuracy: 0.5932 - val_loss: 1.1869 - val_accuracy: 0.5844\n",
      "Epoch 5/10\n",
      "1407/1407 [==============================] - 5s 4ms/step - loss: 1.0632 - accuracy: 0.6269 - val_loss: 1.1242 - val_accuracy: 0.6120\n",
      "Epoch 6/10\n",
      "1407/1407 [==============================] - 6s 4ms/step - loss: 0.9997 - accuracy: 0.6507 - val_loss: 1.1107 - val_accuracy: 0.6220\n",
      "Epoch 7/10\n",
      " 231/1407 [===>..........................] - ETA: 4s - loss: 0.9230 - accuracy: 0.6780"
     ]
    }
   ],
   "source": [
    "#Running an ANN on the data while ignoring the imaginary values\n",
    "\n",
    "model_ann = get_tf_sequential_model()\n",
    "model_ann.compile(optimizer='adam', loss='categorical_crossentropy', metrics='accuracy')\n",
    "    \n",
    "history = model_ann.fit(train_images_org, train_labels, epochs=10, validation_data=(val_images_org, val_labels),batch_size=32)"
   ]
  },
  {
   "cell_type": "code",
   "execution_count": null,
   "metadata": {},
   "outputs": [
    {
     "name": "stdout",
     "output_type": "stream",
     "text": [
      "313/313 [==============================] - 1s 4ms/step - loss: 1.0624 - accuracy: 0.6578\n"
     ]
    }
   ],
   "source": [
    "loss, accu = model_ann.evaluate(test_images_org, test_labels)"
   ]
  },
  {
   "cell_type": "code",
   "execution_count": null,
   "metadata": {},
   "outputs": [
    {
     "name": "stdout",
     "output_type": "stream",
     "text": [
      "The loss in the ANN is:1.0623869895935059 0.657800018787384\n"
     ]
    }
   ],
   "source": [
    "print(f\"The loss in the ANN is:{loss}, the accuracy is: {accu}\")"
   ]
  },
  {
   "cell_type": "markdown",
   "metadata": {},
   "source": [
    "#### Now mapping the data from the real plane to the complex plane using Hilberts transform"
   ]
  },
  {
   "cell_type": "code",
   "execution_count": null,
   "metadata": {},
   "outputs": [],
   "source": [
    "import scipy\n",
    "\n",
    "train_images_hil, val_images_hil, test_images_hil = scipy.signal.hilbert(train_images_org / 255), \\\n",
    "     scipy.signal.hilbert(val_images_org / 255), scipy.signal.hilbert(test_images_org / 255)"
   ]
  },
  {
   "cell_type": "code",
   "execution_count": null,
   "metadata": {},
   "outputs": [
    {
     "name": "stderr",
     "output_type": "stream",
     "text": [
      "2023-08-06 01:08:40.450017: W tensorflow/tsl/framework/cpu_allocator_impl.cc:83] Allocation of 2211840000 exceeds 10% of free system memory.\n",
      "2023-08-06 01:08:42.269615: W tensorflow/tsl/framework/cpu_allocator_impl.cc:83] Allocation of 2211840000 exceeds 10% of free system memory.\n"
     ]
    },
    {
     "name": "stdout",
     "output_type": "stream",
     "text": [
      "Epoch 1/10\n",
      "1407/1407 [==============================] - 27s 17ms/step - loss: 1.9091 - accuracy: 0.3044 - val_loss: 1.6510 - val_accuracy: 0.4078\n",
      "Epoch 2/10\n",
      "1407/1407 [==============================] - 24s 17ms/step - loss: 1.5382 - accuracy: 0.4456 - val_loss: 1.7767 - val_accuracy: 0.3778\n",
      "Epoch 3/10\n",
      "1407/1407 [==============================] - 23s 17ms/step - loss: 1.3625 - accuracy: 0.5134 - val_loss: 1.3889 - val_accuracy: 0.4998\n",
      "Epoch 4/10\n",
      "1407/1407 [==============================] - 25s 18ms/step - loss: 1.2482 - accuracy: 0.5586 - val_loss: 1.6600 - val_accuracy: 0.4124\n",
      "Epoch 5/10\n",
      "1407/1407 [==============================] - 25s 17ms/step - loss: 1.1599 - accuracy: 0.5909 - val_loss: 1.2432 - val_accuracy: 0.5462\n",
      "Epoch 6/10\n",
      "1407/1407 [==============================] - 24s 17ms/step - loss: 1.0810 - accuracy: 0.6201 - val_loss: 1.3209 - val_accuracy: 0.5476\n",
      "Epoch 7/10\n",
      "1407/1407 [==============================] - 24s 17ms/step - loss: 1.0187 - accuracy: 0.6434 - val_loss: 1.4338 - val_accuracy: 0.5194\n",
      "Epoch 8/10\n",
      "1407/1407 [==============================] - 25s 18ms/step - loss: 0.9616 - accuracy: 0.6631 - val_loss: 1.0377 - val_accuracy: 0.6340\n",
      "Epoch 9/10\n",
      "1407/1407 [==============================] - 26s 18ms/step - loss: 0.9088 - accuracy: 0.6830 - val_loss: 1.0715 - val_accuracy: 0.6348\n",
      "Epoch 10/10\n",
      "1407/1407 [==============================] - 24s 17ms/step - loss: 0.8593 - accuracy: 0.7006 - val_loss: 1.0894 - val_accuracy: 0.6224\n"
     ]
    }
   ],
   "source": [
    "#Running the CVNN model on the hilbert data\n",
    "\n",
    "from tensorflow import losses, metrics\n",
    "\n",
    "model_cvnn = get_cvnn_sequential_model()\n",
    "model_cvnn.compile(optimizer='sgd', loss='categorical_crossentropy', metrics='accuracy')\n",
    "    \n",
    "history = model_cvnn.fit(train_images_hil, train_labels, epochs=10, validation_data=(val_images_hil, val_labels),batch_size=32)"
   ]
  },
  {
   "cell_type": "code",
   "execution_count": null,
   "metadata": {},
   "outputs": [
    {
     "name": "stderr",
     "output_type": "stream",
     "text": [
      "2023-08-06 01:15:33.110822: W tensorflow/tsl/framework/cpu_allocator_impl.cc:83] Allocation of 491520000 exceeds 10% of free system memory.\n",
      "2023-08-06 01:15:43.369305: W tensorflow/tsl/framework/bfc_allocator.cc:485] Allocator (GPU_0_bfc) ran out of memory trying to allocate 468.75MiB (rounded to 491520000)requested by op _EagerConst\n",
      "If the cause is memory fragmentation maybe the environment variable 'TF_GPU_ALLOCATOR=cuda_malloc_async' will improve the situation. \n",
      "Current allocation summary follows.\n",
      "Current allocation summary follows.\n",
      "2023-08-06 01:15:43.369420: I tensorflow/tsl/framework/bfc_allocator.cc:1039] BFCAllocator dump for GPU_0_bfc\n",
      "2023-08-06 01:15:43.369458: I tensorflow/tsl/framework/bfc_allocator.cc:1046] Bin (256): \tTotal Chunks: 98, Chunks in use: 98. 24.5KiB allocated for chunks. 24.5KiB in use in bin. 8.5KiB client-requested in use in bin.\n",
      "2023-08-06 01:15:43.369488: I tensorflow/tsl/framework/bfc_allocator.cc:1046] Bin (512): \tTotal Chunks: 1, Chunks in use: 0. 512B allocated for chunks. 0B in use in bin. 0B client-requested in use in bin.\n",
      "2023-08-06 01:15:43.369518: I tensorflow/tsl/framework/bfc_allocator.cc:1046] Bin (1024): \tTotal Chunks: 1, Chunks in use: 1. 1.2KiB allocated for chunks. 1.2KiB in use in bin. 1.0KiB client-requested in use in bin.\n",
      "2023-08-06 01:15:43.369549: I tensorflow/tsl/framework/bfc_allocator.cc:1046] Bin (2048): \tTotal Chunks: 13, Chunks in use: 13. 38.5KiB allocated for chunks. 38.5KiB in use in bin. 37.8KiB client-requested in use in bin.\n",
      "2023-08-06 01:15:43.369579: I tensorflow/tsl/framework/bfc_allocator.cc:1046] Bin (4096): \tTotal Chunks: 6, Chunks in use: 5. 34.0KiB allocated for chunks. 26.8KiB in use in bin. 15.1KiB client-requested in use in bin.\n",
      "2023-08-06 01:15:43.369606: I tensorflow/tsl/framework/bfc_allocator.cc:1046] Bin (8192): \tTotal Chunks: 0, Chunks in use: 0. 0B allocated for chunks. 0B in use in bin. 0B client-requested in use in bin.\n",
      "2023-08-06 01:15:43.369633: I tensorflow/tsl/framework/bfc_allocator.cc:1046] Bin (16384): \tTotal Chunks: 1, Chunks in use: 0. 31.2KiB allocated for chunks. 0B in use in bin. 0B client-requested in use in bin.\n",
      "2023-08-06 01:15:43.369660: I tensorflow/tsl/framework/bfc_allocator.cc:1046] Bin (32768): \tTotal Chunks: 0, Chunks in use: 0. 0B allocated for chunks. 0B in use in bin. 0B client-requested in use in bin.\n",
      "2023-08-06 01:15:43.369690: I tensorflow/tsl/framework/bfc_allocator.cc:1046] Bin (65536): \tTotal Chunks: 9, Chunks in use: 9. 695.2KiB allocated for chunks. 695.2KiB in use in bin. 648.0KiB client-requested in use in bin.\n",
      "2023-08-06 01:15:43.369720: I tensorflow/tsl/framework/bfc_allocator.cc:1046] Bin (131072): \tTotal Chunks: 11, Chunks in use: 10. 1.78MiB allocated for chunks. 1.64MiB in use in bin. 1.51MiB client-requested in use in bin.\n",
      "2023-08-06 01:15:43.369747: I tensorflow/tsl/framework/bfc_allocator.cc:1046] Bin (262144): \tTotal Chunks: 10, Chunks in use: 10. 2.67MiB allocated for chunks. 2.67MiB in use in bin. 2.39MiB client-requested in use in bin.\n",
      "2023-08-06 01:15:43.369774: I tensorflow/tsl/framework/bfc_allocator.cc:1046] Bin (524288): \tTotal Chunks: 0, Chunks in use: 0. 0B allocated for chunks. 0B in use in bin. 0B client-requested in use in bin.\n",
      "2023-08-06 01:15:43.369802: I tensorflow/tsl/framework/bfc_allocator.cc:1046] Bin (1048576): \tTotal Chunks: 2, Chunks in use: 2. 3.43MiB allocated for chunks. 3.43MiB in use in bin. 3.43MiB client-requested in use in bin.\n",
      "2023-08-06 01:15:43.369828: I tensorflow/tsl/framework/bfc_allocator.cc:1046] Bin (2097152): \tTotal Chunks: 0, Chunks in use: 0. 0B allocated for chunks. 0B in use in bin. 0B client-requested in use in bin.\n",
      "2023-08-06 01:15:43.369853: I tensorflow/tsl/framework/bfc_allocator.cc:1046] Bin (4194304): \tTotal Chunks: 0, Chunks in use: 0. 0B allocated for chunks. 0B in use in bin. 0B client-requested in use in bin.\n",
      "2023-08-06 01:15:43.369907: I tensorflow/tsl/framework/bfc_allocator.cc:1046] Bin (8388608): \tTotal Chunks: 1, Chunks in use: 1. 14.65MiB allocated for chunks. 14.65MiB in use in bin. 14.65MiB client-requested in use in bin.\n",
      "2023-08-06 01:15:43.369936: I tensorflow/tsl/framework/bfc_allocator.cc:1046] Bin (16777216): \tTotal Chunks: 0, Chunks in use: 0. 0B allocated for chunks. 0B in use in bin. 0B client-requested in use in bin.\n",
      "2023-08-06 01:15:43.369966: I tensorflow/tsl/framework/bfc_allocator.cc:1046] Bin (33554432): \tTotal Chunks: 0, Chunks in use: 0. 0B allocated for chunks. 0B in use in bin. 0B client-requested in use in bin.\n",
      "2023-08-06 01:15:43.369993: I tensorflow/tsl/framework/bfc_allocator.cc:1046] Bin (67108864): \tTotal Chunks: 0, Chunks in use: 0. 0B allocated for chunks. 0B in use in bin. 0B client-requested in use in bin.\n",
      "2023-08-06 01:15:43.370024: I tensorflow/tsl/framework/bfc_allocator.cc:1046] Bin (134217728): \tTotal Chunks: 2, Chunks in use: 2. 366.21MiB allocated for chunks. 366.21MiB in use in bin. 366.21MiB client-requested in use in bin.\n",
      "2023-08-06 01:15:43.370052: I tensorflow/tsl/framework/bfc_allocator.cc:1046] Bin (268435456): \tTotal Chunks: 2, Chunks in use: 1. 2.35GiB allocated for chunks. 2.06GiB in use in bin. 2.06GiB client-requested in use in bin.\n",
      "2023-08-06 01:15:43.370081: I tensorflow/tsl/framework/bfc_allocator.cc:1062] Bin for 468.75MiB was 256.00MiB, Chunk State: \n",
      "2023-08-06 01:15:43.370118: I tensorflow/tsl/framework/bfc_allocator.cc:1068]   Size: 298.58MiB | Requested Size: 64.0KiB | in_use: 0 | bin_num: 20, prev:   Size: 195.5KiB | Requested Size: 195.3KiB | in_use: 1 | bin_num: -1\n",
      "2023-08-06 01:15:43.370143: I tensorflow/tsl/framework/bfc_allocator.cc:1075] Next region of size 2933391360\n",
      "2023-08-06 01:15:43.370170: I tensorflow/tsl/framework/bfc_allocator.cc:1095] InUse at 7f7f48000000 of size 256 next 1\n",
      "2023-08-06 01:15:43.370192: I tensorflow/tsl/framework/bfc_allocator.cc:1095] InUse at 7f7f48000100 of size 1280 next 2\n",
      "2023-08-06 01:15:43.370213: I tensorflow/tsl/framework/bfc_allocator.cc:1095] InUse at 7f7f48000600 of size 256 next 3\n",
      "2023-08-06 01:15:43.370234: I tensorflow/tsl/framework/bfc_allocator.cc:1095] InUse at 7f7f48000700 of size 256 next 4\n",
      "2023-08-06 01:15:43.370255: I tensorflow/tsl/framework/bfc_allocator.cc:1095] InUse at 7f7f48000800 of size 256 next 6\n",
      "2023-08-06 01:15:43.370276: I tensorflow/tsl/framework/bfc_allocator.cc:1095] InUse at 7f7f48000900 of size 256 next 7\n",
      "2023-08-06 01:15:43.370297: I tensorflow/tsl/framework/bfc_allocator.cc:1095] InUse at 7f7f48000a00 of size 256 next 5\n",
      "2023-08-06 01:15:43.370318: I tensorflow/tsl/framework/bfc_allocator.cc:1095] InUse at 7f7f48000b00 of size 256 next 8\n",
      "2023-08-06 01:15:43.370339: I tensorflow/tsl/framework/bfc_allocator.cc:1095] InUse at 7f7f48000c00 of size 256 next 13\n",
      "2023-08-06 01:15:43.370360: I tensorflow/tsl/framework/bfc_allocator.cc:1095] InUse at 7f7f48000d00 of size 256 next 11\n",
      "2023-08-06 01:15:43.370380: I tensorflow/tsl/framework/bfc_allocator.cc:1095] InUse at 7f7f48000e00 of size 256 next 12\n",
      "2023-08-06 01:15:43.370401: I tensorflow/tsl/framework/bfc_allocator.cc:1095] InUse at 7f7f48000f00 of size 256 next 16\n",
      "2023-08-06 01:15:43.370422: I tensorflow/tsl/framework/bfc_allocator.cc:1095] InUse at 7f7f48001000 of size 256 next 17\n",
      "2023-08-06 01:15:43.370442: I tensorflow/tsl/framework/bfc_allocator.cc:1095] InUse at 7f7f48001100 of size 256 next 20\n",
      "2023-08-06 01:15:43.370463: I tensorflow/tsl/framework/bfc_allocator.cc:1095] InUse at 7f7f48001200 of size 256 next 23\n",
      "2023-08-06 01:15:43.370484: I tensorflow/tsl/framework/bfc_allocator.cc:1095] InUse at 7f7f48001300 of size 256 next 21\n",
      "2023-08-06 01:15:43.370505: I tensorflow/tsl/framework/bfc_allocator.cc:1095] InUse at 7f7f48001400 of size 256 next 22\n",
      "2023-08-06 01:15:43.370526: I tensorflow/tsl/framework/bfc_allocator.cc:1095] InUse at 7f7f48001500 of size 256 next 10\n",
      "2023-08-06 01:15:43.370546: I tensorflow/tsl/framework/bfc_allocator.cc:1095] InUse at 7f7f48001600 of size 256 next 40\n",
      "2023-08-06 01:15:43.370567: I tensorflow/tsl/framework/bfc_allocator.cc:1095] InUse at 7f7f48001700 of size 256 next 24\n",
      "2023-08-06 01:15:43.370587: I tensorflow/tsl/framework/bfc_allocator.cc:1095] InUse at 7f7f48001800 of size 256 next 19\n",
      "2023-08-06 01:15:43.370608: I tensorflow/tsl/framework/bfc_allocator.cc:1095] InUse at 7f7f48001900 of size 256 next 43\n",
      "2023-08-06 01:15:43.370629: I tensorflow/tsl/framework/bfc_allocator.cc:1095] InUse at 7f7f48001a00 of size 256 next 26\n",
      "2023-08-06 01:15:43.370652: I tensorflow/tsl/framework/bfc_allocator.cc:1095] InUse at 7f7f48001b00 of size 256 next 33\n",
      "2023-08-06 01:15:43.370673: I tensorflow/tsl/framework/bfc_allocator.cc:1095] InUse at 7f7f48001c00 of size 256 next 28\n",
      "2023-08-06 01:15:43.370693: I tensorflow/tsl/framework/bfc_allocator.cc:1095] InUse at 7f7f48001d00 of size 256 next 35\n",
      "2023-08-06 01:15:43.370714: I tensorflow/tsl/framework/bfc_allocator.cc:1095] InUse at 7f7f48001e00 of size 256 next 36\n",
      "2023-08-06 01:15:43.370735: I tensorflow/tsl/framework/bfc_allocator.cc:1095] InUse at 7f7f48001f00 of size 4864 next 29\n",
      "2023-08-06 01:15:43.370757: I tensorflow/tsl/framework/bfc_allocator.cc:1095] InUse at 7f7f48003200 of size 256 next 34\n",
      "2023-08-06 01:15:43.370779: I tensorflow/tsl/framework/bfc_allocator.cc:1095] InUse at 7f7f48003300 of size 2560 next 37\n",
      "2023-08-06 01:15:43.370800: I tensorflow/tsl/framework/bfc_allocator.cc:1095] InUse at 7f7f48003d00 of size 4352 next 25\n",
      "2023-08-06 01:15:43.370821: I tensorflow/tsl/framework/bfc_allocator.cc:1095] InUse at 7f7f48004e00 of size 256 next 59\n",
      "2023-08-06 01:15:43.370841: I tensorflow/tsl/framework/bfc_allocator.cc:1095] InUse at 7f7f48004f00 of size 256 next 62\n",
      "2023-08-06 01:15:43.370862: I tensorflow/tsl/framework/bfc_allocator.cc:1095] InUse at 7f7f48005000 of size 256 next 63\n",
      "2023-08-06 01:15:43.370899: I tensorflow/tsl/framework/bfc_allocator.cc:1095] InUse at 7f7f48005100 of size 5120 next 41\n",
      "2023-08-06 01:15:43.370921: I tensorflow/tsl/framework/bfc_allocator.cc:1095] InUse at 7f7f48006500 of size 256 next 46\n",
      "2023-08-06 01:15:43.370943: I tensorflow/tsl/framework/bfc_allocator.cc:1095] InUse at 7f7f48006600 of size 256 next 47\n",
      "2023-08-06 01:15:43.370964: I tensorflow/tsl/framework/bfc_allocator.cc:1095] InUse at 7f7f48006700 of size 256 next 53\n",
      "2023-08-06 01:15:43.370985: I tensorflow/tsl/framework/bfc_allocator.cc:1095] InUse at 7f7f48006800 of size 256 next 50\n",
      "2023-08-06 01:15:43.371005: I tensorflow/tsl/framework/bfc_allocator.cc:1095] InUse at 7f7f48006900 of size 256 next 51\n",
      "2023-08-06 01:15:43.371026: I tensorflow/tsl/framework/bfc_allocator.cc:1095] InUse at 7f7f48006a00 of size 256 next 57\n",
      "2023-08-06 01:15:43.371047: I tensorflow/tsl/framework/bfc_allocator.cc:1095] InUse at 7f7f48006b00 of size 256 next 58\n",
      "2023-08-06 01:15:43.371068: I tensorflow/tsl/framework/bfc_allocator.cc:1095] InUse at 7f7f48006c00 of size 256 next 45\n",
      "2023-08-06 01:15:43.371089: I tensorflow/tsl/framework/bfc_allocator.cc:1095] InUse at 7f7f48006d00 of size 6144 next 49\n",
      "2023-08-06 01:15:43.371110: I tensorflow/tsl/framework/bfc_allocator.cc:1095] InUse at 7f7f48008500 of size 3584 next 48\n",
      "2023-08-06 01:15:43.371133: I tensorflow/tsl/framework/bfc_allocator.cc:1095] InUse at 7f7f48009300 of size 73728 next 44\n",
      "2023-08-06 01:15:43.371161: I tensorflow/tsl/framework/bfc_allocator.cc:1095] InUse at 7f7f4801b300 of size 73728 next 42\n",
      "2023-08-06 01:15:43.371206: I tensorflow/tsl/framework/bfc_allocator.cc:1095] InUse at 7f7f4802d300 of size 203520 next 52\n",
      "2023-08-06 01:15:43.371245: I tensorflow/tsl/framework/bfc_allocator.cc:1095] InUse at 7f7f4805ee00 of size 73728 next 31\n",
      "2023-08-06 01:15:43.371292: I tensorflow/tsl/framework/bfc_allocator.cc:1095] InUse at 7f7f48070e00 of size 147456 next 9\n",
      "2023-08-06 01:15:43.371326: I tensorflow/tsl/framework/bfc_allocator.cc:1095] InUse at 7f7f48094e00 of size 442368 next 55\n",
      "2023-08-06 01:15:43.371349: I tensorflow/tsl/framework/bfc_allocator.cc:1095] InUse at 7f7f48100e00 of size 229376 next 38\n",
      "2023-08-06 01:15:43.371370: I tensorflow/tsl/framework/bfc_allocator.cc:1095] InUse at 7f7f48138e00 of size 262144 next 32\n",
      "2023-08-06 01:15:43.371391: I tensorflow/tsl/framework/bfc_allocator.cc:1095] InUse at 7f7f48178e00 of size 256 next 39\n",
      "2023-08-06 01:15:43.371412: I tensorflow/tsl/framework/bfc_allocator.cc:1095] InUse at 7f7f48178f00 of size 256 next 27\n",
      "2023-08-06 01:15:43.371432: I tensorflow/tsl/framework/bfc_allocator.cc:1095] InUse at 7f7f48179000 of size 256 next 18\n",
      "2023-08-06 01:15:43.371458: I tensorflow/tsl/framework/bfc_allocator.cc:1095] InUse at 7f7f48179100 of size 256 next 14\n",
      "2023-08-06 01:15:43.371479: I tensorflow/tsl/framework/bfc_allocator.cc:1095] InUse at 7f7f48179200 of size 256 next 15\n",
      "2023-08-06 01:15:43.371499: I tensorflow/tsl/framework/bfc_allocator.cc:1095] InUse at 7f7f48179300 of size 256 next 30\n",
      "2023-08-06 01:15:43.371520: I tensorflow/tsl/framework/bfc_allocator.cc:1095] InUse at 7f7f48179400 of size 256 next 64\n",
      "2023-08-06 01:15:43.371540: I tensorflow/tsl/framework/bfc_allocator.cc:1095] InUse at 7f7f48179500 of size 256 next 73\n",
      "2023-08-06 01:15:43.371560: I tensorflow/tsl/framework/bfc_allocator.cc:1095] InUse at 7f7f48179600 of size 256 next 74\n",
      "2023-08-06 01:15:43.371581: I tensorflow/tsl/framework/bfc_allocator.cc:1095] InUse at 7f7f48179700 of size 256 next 81\n",
      "2023-08-06 01:15:43.371602: I tensorflow/tsl/framework/bfc_allocator.cc:1095] InUse at 7f7f48179800 of size 256 next 72\n",
      "2023-08-06 01:15:43.371622: I tensorflow/tsl/framework/bfc_allocator.cc:1095] InUse at 7f7f48179900 of size 256 next 67\n",
      "2023-08-06 01:15:43.371642: I tensorflow/tsl/framework/bfc_allocator.cc:1095] InUse at 7f7f48179a00 of size 256 next 92\n",
      "2023-08-06 01:15:43.371663: I tensorflow/tsl/framework/bfc_allocator.cc:1095] InUse at 7f7f48179b00 of size 6912 next 76\n",
      "2023-08-06 01:15:43.371684: I tensorflow/tsl/framework/bfc_allocator.cc:1095] InUse at 7f7f4817b600 of size 256 next 68\n",
      "2023-08-06 01:15:43.371704: I tensorflow/tsl/framework/bfc_allocator.cc:1095] InUse at 7f7f4817b700 of size 256 next 78\n",
      "2023-08-06 01:15:43.371724: I tensorflow/tsl/framework/bfc_allocator.cc:1095] InUse at 7f7f4817b800 of size 200192 next 79\n",
      "2023-08-06 01:15:43.371746: I tensorflow/tsl/framework/bfc_allocator.cc:1095] InUse at 7f7f481ac600 of size 256 next 91\n",
      "2023-08-06 01:15:43.371766: I tensorflow/tsl/framework/bfc_allocator.cc:1095] InUse at 7f7f481ac700 of size 256 next 90\n",
      "2023-08-06 01:15:43.371787: I tensorflow/tsl/framework/bfc_allocator.cc:1095] InUse at 7f7f481ac800 of size 256 next 69\n",
      "2023-08-06 01:15:43.371807: I tensorflow/tsl/framework/bfc_allocator.cc:1095] InUse at 7f7f481ac900 of size 256 next 87\n",
      "2023-08-06 01:15:43.371827: I tensorflow/tsl/framework/bfc_allocator.cc:1095] InUse at 7f7f481aca00 of size 256 next 86\n",
      "2023-08-06 01:15:43.371847: I tensorflow/tsl/framework/bfc_allocator.cc:1095] InUse at 7f7f481acb00 of size 256 next 83\n",
      "2023-08-06 01:15:43.371901: I tensorflow/tsl/framework/bfc_allocator.cc:1095] InUse at 7f7f481acc00 of size 256 next 94\n",
      "2023-08-06 01:15:43.371930: I tensorflow/tsl/framework/bfc_allocator.cc:1095] InUse at 7f7f481acd00 of size 256 next 95\n",
      "2023-08-06 01:15:43.371953: I tensorflow/tsl/framework/bfc_allocator.cc:1095] InUse at 7f7f481ace00 of size 256 next 96\n",
      "2023-08-06 01:15:43.371974: I tensorflow/tsl/framework/bfc_allocator.cc:1095] InUse at 7f7f481acf00 of size 256 next 99\n",
      "2023-08-06 01:15:43.371995: I tensorflow/tsl/framework/bfc_allocator.cc:1095] InUse at 7f7f481ad000 of size 256 next 100\n",
      "2023-08-06 01:15:43.372016: I tensorflow/tsl/framework/bfc_allocator.cc:1095] InUse at 7f7f481ad100 of size 256 next 101\n",
      "2023-08-06 01:15:43.372037: I tensorflow/tsl/framework/bfc_allocator.cc:1095] InUse at 7f7f481ad200 of size 256 next 102\n",
      "2023-08-06 01:15:43.372058: I tensorflow/tsl/framework/bfc_allocator.cc:1095] InUse at 7f7f481ad300 of size 256 next 106\n",
      "2023-08-06 01:15:43.372079: I tensorflow/tsl/framework/bfc_allocator.cc:1095] InUse at 7f7f481ad400 of size 256 next 71\n",
      "2023-08-06 01:15:43.372100: I tensorflow/tsl/framework/bfc_allocator.cc:1095] InUse at 7f7f481ad500 of size 3584 next 77\n",
      "2023-08-06 01:15:43.372122: I tensorflow/tsl/framework/bfc_allocator.cc:1095] InUse at 7f7f481ae300 of size 3584 next 66\n",
      "2023-08-06 01:15:43.372143: I tensorflow/tsl/fr"
     ]
    },
    {
     "ename": "InternalError",
     "evalue": "Failed copying input tensor from /job:localhost/replica:0/task:0/device:CPU:0 to /job:localhost/replica:0/task:0/device:GPU:0 in order to run _EagerConst: Dst tensor is not initialized.",
     "output_type": "error",
     "traceback": [
      "\u001b[0;31m---------------------------------------------------------------------------\u001b[0m",
      "\u001b[0;31mInternalError\u001b[0m                             Traceback (most recent call last)",
      "Cell \u001b[0;32mIn[25], line 1\u001b[0m\n\u001b[0;32m----> 1\u001b[0m loss, accu \u001b[39m=\u001b[39m model_cvnn\u001b[39m.\u001b[39;49mevaluate(test_images_hil, test_labels)\n",
      "File \u001b[0;32m~/.conda/envs/tf2/lib/python3.9/site-packages/keras/src/utils/traceback_utils.py:70\u001b[0m, in \u001b[0;36mfilter_traceback.<locals>.error_handler\u001b[0;34m(*args, **kwargs)\u001b[0m\n\u001b[1;32m     67\u001b[0m     filtered_tb \u001b[39m=\u001b[39m _process_traceback_frames(e\u001b[39m.\u001b[39m__traceback__)\n\u001b[1;32m     68\u001b[0m     \u001b[39m# To get the full stack trace, call:\u001b[39;00m\n\u001b[1;32m     69\u001b[0m     \u001b[39m# `tf.debugging.disable_traceback_filtering()`\u001b[39;00m\n\u001b[0;32m---> 70\u001b[0m     \u001b[39mraise\u001b[39;00m e\u001b[39m.\u001b[39mwith_traceback(filtered_tb) \u001b[39mfrom\u001b[39;00m \u001b[39mNone\u001b[39;00m\n\u001b[1;32m     71\u001b[0m \u001b[39mfinally\u001b[39;00m:\n\u001b[1;32m     72\u001b[0m     \u001b[39mdel\u001b[39;00m filtered_tb\n",
      "File \u001b[0;32m~/.conda/envs/tf2/lib/python3.9/site-packages/tensorflow/python/framework/constant_op.py:98\u001b[0m, in \u001b[0;36mconvert_to_eager_tensor\u001b[0;34m(value, ctx, dtype)\u001b[0m\n\u001b[1;32m     96\u001b[0m     dtype \u001b[39m=\u001b[39m dtypes\u001b[39m.\u001b[39mas_dtype(dtype)\u001b[39m.\u001b[39mas_datatype_enum\n\u001b[1;32m     97\u001b[0m ctx\u001b[39m.\u001b[39mensure_initialized()\n\u001b[0;32m---> 98\u001b[0m \u001b[39mreturn\u001b[39;00m ops\u001b[39m.\u001b[39;49mEagerTensor(value, ctx\u001b[39m.\u001b[39;49mdevice_name, dtype)\n",
      "\u001b[0;31mInternalError\u001b[0m: Failed copying input tensor from /job:localhost/replica:0/task:0/device:CPU:0 to /job:localhost/replica:0/task:0/device:GPU:0 in order to run _EagerConst: Dst tensor is not initialized."
     ]
    },
    {
     "name": "stderr",
     "output_type": "stream",
     "text": [
      "amework/bfc_allocator.cc:1095] InUse at 7f7f481af100 of size 2560 next 97\n",
      "2023-08-06 01:15:43.372164: I tensorflow/tsl/framework/bfc_allocator.cc:1095] InUse at 7f7f481afb00 of size 2560 next 98\n",
      "2023-08-06 01:15:43.372185: I tensorflow/tsl/framework/bfc_allocator.cc:1095] InUse at 7f7f481b0500 of size 256 next 109\n",
      "2023-08-06 01:15:43.372208: I tensorflow/tsl/framework/bfc_allocator.cc:1095] InUse at 7f7f481b0600 of size 256 next 110\n",
      "2023-08-06 01:15:43.372239: I tensorflow/tsl/framework/bfc_allocator.cc:1095] InUse at 7f7f481b0700 of size 256 next 111\n",
      "2023-08-06 01:15:43.372261: I tensorflow/tsl/framework/bfc_allocator.cc:1095] InUse at 7f7f481b0800 of size 256 next 114\n",
      "2023-08-06 01:15:43.372282: I tensorflow/tsl/framework/bfc_allocator.cc:1095] InUse at 7f7f481b0900 of size 256 next 118\n",
      "2023-08-06 01:15:43.372303: I tensorflow/tsl/framework/bfc_allocator.cc:1095] InUse at 7f7f481b0a00 of size 256 next 119\n",
      "2023-08-06 01:15:43.372324: I tensorflow/tsl/framework/bfc_allocator.cc:1095] InUse at 7f7f481b0b00 of size 256 next 120\n",
      "2023-08-06 01:15:43.372345: I tensorflow/tsl/framework/bfc_allocator.cc:1095] InUse at 7f7f481b0c00 of size 256 next 123\n",
      "2023-08-06 01:15:43.372366: I tensorflow/tsl/framework/bfc_allocator.cc:1095] InUse at 7f7f481b0d00 of size 256 next 127\n",
      "2023-08-06 01:15:43.372387: I tensorflow/tsl/framework/bfc_allocator.cc:1095] InUse at 7f7f481b0e00 of size 256 next 128\n",
      "2023-08-06 01:15:43.372407: I tensorflow/tsl/framework/bfc_allocator.cc:1095] InUse at 7f7f481b0f00 of size 256 next 129\n",
      "2023-08-06 01:15:43.372428: I tensorflow/tsl/framework/bfc_allocator.cc:1095] InUse at 7f7f481b1000 of size 256 next 130\n",
      "2023-08-06 01:15:43.372449: I tensorflow/tsl/framework/bfc_allocator.cc:1095] InUse at 7f7f481b1100 of size 256 next 132\n",
      "2023-08-06 01:15:43.372470: I tensorflow/tsl/framework/bfc_allocator.cc:1095] InUse at 7f7f481b1200 of size 256 next 104\n",
      "2023-08-06 01:15:43.372491: I tensorflow/tsl/framework/bfc_allocator.cc:1095] InUse at 7f7f481b1300 of size 3584 next 103\n",
      "2023-08-06 01:15:43.372512: I tensorflow/tsl/framework/bfc_allocator.cc:1095] InUse at 7f7f481b2100 of size 3584 next 105\n",
      "2023-08-06 01:15:43.372533: I tensorflow/tsl/framework/bfc_allocator.cc:1095] InUse at 7f7f481b2f00 of size 2560 next 121\n",
      "2023-08-06 01:15:43.372554: I tensorflow/tsl/framework/bfc_allocator.cc:1095] InUse at 7f7f481b3900 of size 2560 next 122\n",
      "2023-08-06 01:15:43.372576: I tensorflow/tsl/framework/bfc_allocator.cc:1095] InUse at 7f7f481b4300 of size 3584 next 126\n",
      "2023-08-06 01:15:43.372597: I tensorflow/tsl/framework/bfc_allocator.cc:1095] InUse at 7f7f481b5100 of size 256 next 135\n",
      "2023-08-06 01:15:43.372618: I tensorflow/tsl/framework/bfc_allocator.cc:1095] InUse at 7f7f481b5200 of size 256 next 136\n",
      "2023-08-06 01:15:43.372639: I tensorflow/tsl/framework/bfc_allocator.cc:1095] InUse at 7f7f481b5300 of size 2560 next 137\n",
      "2023-08-06 01:15:43.372660: I tensorflow/tsl/framework/bfc_allocator.cc:1095] InUse at 7f7f481b5d00 of size 2560 next 138\n",
      "2023-08-06 01:15:43.372681: I tensorflow/tsl/framework/bfc_allocator.cc:1095] InUse at 7f7f481b6700 of size 256 next 139\n",
      "2023-08-06 01:15:43.372702: I tensorflow/tsl/framework/bfc_allocator.cc:1095] InUse at 7f7f481b6800 of size 256 next 140\n",
      "2023-08-06 01:15:43.372723: I tensorflow/tsl/framework/bfc_allocator.cc:1095] InUse at 7f7f481b6900 of size 256 next 141\n",
      "2023-08-06 01:15:43.372745: I tensorflow/tsl/framework/bfc_allocator.cc:1095] InUse at 7f7f481b6a00 of size 256 next 142\n",
      "2023-08-06 01:15:43.372766: I tensorflow/tsl/framework/bfc_allocator.cc:1095] InUse at 7f7f481b6b00 of size 256 next 143\n",
      "2023-08-06 01:15:43.372787: I tensorflow/tsl/framework/bfc_allocator.cc:1095] InUse at 7f7f481b6c00 of size 256 next 144\n",
      "2023-08-06 01:15:43.372809: I tensorflow/tsl/framework/bfc_allocator.cc:1095] InUse at 7f7f481b6d00 of size 256 next 145\n",
      "2023-08-06 01:15:43.372830: I tensorflow/tsl/framework/bfc_allocator.cc:1095] InUse at 7f7f481b6e00 of size 256 next 146\n",
      "2023-08-06 01:15:43.372851: I tensorflow/tsl/framework/bfc_allocator.cc:1095] Free  at 7f7f481b6f00 of size 512 next 166\n",
      "2023-08-06 01:15:43.372887: I tensorflow/tsl/framework/bfc_allocator.cc:1095] InUse at 7f7f481b7100 of size 256 next 149\n",
      "2023-08-06 01:15:43.372910: I tensorflow/tsl/framework/bfc_allocator.cc:1095] InUse at 7f7f481b7200 of size 256 next 167\n",
      "2023-08-06 01:15:43.372934: I tensorflow/tsl/framework/bfc_allocator.cc:1095] InUse at 7f7f481b7300 of size 256 next 147\n",
      "2023-08-06 01:15:43.372955: I tensorflow/tsl/framework/bfc_allocator.cc:1095] InUse at 7f7f481b7400 of size 256 next 150\n",
      "2023-08-06 01:15:43.372976: I tensorflow/tsl/framework/bfc_allocator.cc:1095] InUse at 7f7f481b7500 of size 256 next 170\n",
      "2023-08-06 01:15:43.372998: I tensorflow/tsl/framework/bfc_allocator.cc:1095] Free  at 7f7f481b7600 of size 7424 next 161\n",
      "2023-08-06 01:15:43.373019: I tensorflow/tsl/framework/bfc_allocator.cc:1095] InUse at 7f7f481b9300 of size 256 next 164\n",
      "2023-08-06 01:15:43.373040: I tensorflow/tsl/framework/bfc_allocator.cc:1095] Free  at 7f7f481b9400 of size 32000 next 75\n",
      "2023-08-06 01:15:43.373061: I tensorflow/tsl/framework/bfc_allocator.cc:1095] InUse at 7f7f481c1100 of size 73728 next 80\n",
      "2023-08-06 01:15:43.373082: I tensorflow/tsl/framework/bfc_allocator.cc:1095] InUse at 7f7f481d3100 of size 73728 next 89\n",
      "2023-08-06 01:15:43.373104: I tensorflow/tsl/framework/bfc_allocator.cc:1095] InUse at 7f7f481e5100 of size 81152 next 56\n",
      "2023-08-06 01:15:43.373125: I tensorflow/tsl/framework/bfc_allocator.cc:1095] InUse at 7f7f481f8e00 of size 262144 next 54\n",
      "2023-08-06 01:15:43.373147: I tensorflow/tsl/framework/bfc_allocator.cc:1095] InUse at 7f7f48238e00 of size 138240000 next 60\n",
      "2023-08-06 01:15:43.373169: I tensorflow/tsl/framework/bfc_allocator.cc:1095] InUse at 7f7f5060ee00 of size 1800192 next 61\n",
      "2023-08-06 01:15:43.373191: I tensorflow/tsl/framework/bfc_allocator.cc:1095] InUse at 7f7f507c6600 of size 15360000 next 65\n",
      "2023-08-06 01:15:43.373213: I tensorflow/tsl/framework/bfc_allocator.cc:1095] InUse at 7f7f5166c600 of size 147456 next 131\n",
      "2023-08-06 01:15:43.373234: I tensorflow/tsl/framework/bfc_allocator.cc:1095] Free  at 7f7f51690600 of size 147456 next 85\n",
      "2023-08-06 01:15:43.373255: I tensorflow/tsl/framework/bfc_allocator.cc:1095] InUse at 7f7f516b4600 of size 147456 next 70\n",
      "2023-08-06 01:15:43.373276: I tensorflow/tsl/framework/bfc_allocator.cc:1095] InUse at 7f7f516d8600 of size 147456 next 84\n",
      "2023-08-06 01:15:43.373298: I tensorflow/tsl/framework/bfc_allocator.cc:1095] InUse at 7f7f516fc600 of size 73728 next 108\n",
      "2023-08-06 01:15:43.373319: I tensorflow/tsl/framework/bfc_allocator.cc:1095] InUse at 7f7f5170e600 of size 73728 next 107\n",
      "2023-08-06 01:15:43.373341: I tensorflow/tsl/framework/bfc_allocator.cc:1095] InUse at 7f7f51720600 of size 114688 next 88\n",
      "2023-08-06 01:15:43.373362: I tensorflow/tsl/framework/bfc_allocator.cc:1095] InUse at 7f7f5173c600 of size 262144 next 82\n",
      "2023-08-06 01:15:43.373383: I tensorflow/tsl/framework/bfc_allocator.cc:1095] InUse at 7f7f5177c600 of size 262144 next 93\n",
      "2023-08-06 01:15:43.373404: I tensorflow/tsl/framework/bfc_allocator.cc:1095] InUse at 7f7f517bc600 of size 147456 next 112\n",
      "2023-08-06 01:15:43.373426: I tensorflow/tsl/framework/bfc_allocator.cc:1095] InUse at 7f7f517e0600 of size 147456 next 113\n",
      "2023-08-06 01:15:43.373447: I tensorflow/tsl/framework/bfc_allocator.cc:1095] InUse at 7f7f51804600 of size 262144 next 116\n",
      "2023-08-06 01:15:43.373468: I tensorflow/tsl/framework/bfc_allocator.cc:1095] InUse at 7f7f51844600 of size 262144 next 115\n",
      "2023-08-06 01:15:43.373489: I tensorflow/tsl/framework/bfc_allocator.cc:1095] InUse at 7f7f51884600 of size 262144 next 117\n",
      "2023-08-06 01:15:43.373511: I tensorflow/tsl/framework/bfc_allocator.cc:1095] InUse at 7f7f518c4600 of size 2211840000 next 124\n",
      "2023-08-06 01:15:43.373533: I tensorflow/tsl/framework/bfc_allocator.cc:1095] InUse at 7f7fd5624600 of size 1800192 next 125\n",
      "2023-08-06 01:15:43.373554: I tensorflow/tsl/framework/bfc_allocator.cc:1095] InUse at 7f7fd57dbe00 of size 262144 next 133\n",
      "2023-08-06 01:15:43.373576: I tensorflow/tsl/framework/bfc_allocator.cc:1095] InUse at 7f7fd581be00 of size 262144 next 134\n",
      "2023-08-06 01:15:43.373598: I tensorflow/tsl/framework/bfc_allocator.cc:1095] InUse at 7f7fd585be00 of size 245760000 next 181\n",
      "2023-08-06 01:15:43.373619: I tensorflow/tsl/framework/bfc_allocator.cc:1095] InUse at 7f7fe42bbe00 of size 200192 next 172\n",
      "2023-08-06 01:15:43.373643: I tensorflow/tsl/framework/bfc_allocator.cc:1095] Free  at 7f7fe42ecc00 of size 313078784 next 18446744073709551615\n",
      "2023-08-06 01:15:43.373670: I tensorflow/tsl/framework/bfc_allocator.cc:1100]      Summary of in-use Chunks by size: \n",
      "2023-08-06 01:15:43.373699: I tensorflow/tsl/framework/bfc_allocator.cc:1103] 98 Chunks of size 256 totalling 24.5KiB\n",
      "2023-08-06 01:15:43.373723: I tensorflow/tsl/framework/bfc_allocator.cc:1103] 1 Chunks of size 1280 totalling 1.2KiB\n",
      "2023-08-06 01:15:43.373747: I tensorflow/tsl/framework/bfc_allocator.cc:1103] 7 Chunks of size 2560 totalling 17.5KiB\n",
      "2023-08-06 01:15:43.373770: I tensorflow/tsl/framework/bfc_allocator.cc:1103] 6 Chunks of size 3584 totalling 21.0KiB\n",
      "2023-08-06 01:15:43.373793: I tensorflow/tsl/framework/bfc_allocator.cc:1103] 1 Chunks of size 4352 totalling 4.2KiB\n",
      "2023-08-06 01:15:43.373815: I tensorflow/tsl/framework/bfc_allocator.cc:1103] 1 Chunks of size 4864 totalling 4.8KiB\n",
      "2023-08-06 01:15:43.373838: I tensorflow/tsl/framework/bfc_allocator.cc:1103] 1 Chunks of size 5120 totalling 5.0KiB\n",
      "2023-08-06 01:15:43.373861: I tensorflow/tsl/framework/bfc_allocator.cc:1103] 1 Chunks of size 6144 totalling 6.0KiB\n",
      "2023-08-06 01:15:43.373899: I tensorflow/tsl/framework/bfc_allocator.cc:1103] 1 Chunks of size 6912 totalling 6.8KiB\n",
      "2023-08-06 01:15:43.373924: I tensorflow/tsl/framework/bfc_allocator.cc:1103] 7 Chunks of size 73728 totalling 504.0KiB\n",
      "2023-08-06 01:15:43.373949: I tensorflow/tsl/framework/bfc_allocator.cc:1103] 1 Chunks of size 81152 totalling 79.2KiB\n",
      "2023-08-06 01:15:43.373973: I tensorflow/tsl/framework/bfc_allocator.cc:1103] 1 Chunks of size 114688 totalling 112.0KiB\n",
      "2023-08-06 01:15:43.373997: I tensorflow/tsl/framework/bfc_allocator.cc:1103] 6 Chunks of size 147456 totalling 864.0KiB\n",
      "2023-08-06 01:15:43.374021: I tensorflow/tsl/framework/bfc_allocator.cc:1103] 2 Chunks of size 200192 totalling 391.0KiB\n",
      "2023-08-06 01:15:43.374045: I tensorflow/tsl/framework/bfc_allocator.cc:1103] 1 Chunks of size 203520 totalling 198.8KiB\n",
      "2023-08-06 01:15:43.374068: I tensorflow/tsl/framework/bfc_allocator.cc:1103] 1 Chunks of size 229376 totalling 224.0KiB\n",
      "2023-08-06 01:15:43.374091: I tensorflow/tsl/framework/bfc_allocator.cc:1103] 9 Chunks of size 262144 totalling 2.25MiB\n",
      "2023-08-06 01:15:43.374115: I tensorflow/tsl/framework/bfc_allocator.cc:1103] 1 Chunks of size 442368 totalling 432.0KiB\n",
      "2023-08-06 01:15:43.374137: I tensorflow/tsl/framework/bfc_allocator.cc:1103] 2 Chunks of size 1800192 totalling 3.43MiB\n",
      "2023-08-06 01:15:43.374161: I tensorflow/tsl/framework/bfc_allocator.cc:1103] 1 Chunks of size 15360000 totalling 14.65MiB\n",
      "2023-08-06 01:15:43.374185: I tensorflow/tsl/framework/bfc_allocator.cc:1103] 1 Chunks of size 138240000 totalling 131.84MiB\n",
      "2023-08-06 01:15:43.374209: I tensorflow/tsl/framework/bfc_allocator.cc:1103] 1 Chunks of size 245760000 totalling 234.38MiB\n",
      "2023-08-06 01:15:43.374233: I tensorflow/tsl/framework/bfc_allocator.cc:1103] 1 Chunks of size 2211840000 totalling 2.06GiB\n",
      "2023-08-06 01:15:43.374256: I tensorflow/tsl/framework/bfc_allocator.cc:1107] Sum Total of in-use chunks: 2.44GiB\n",
      "2023-08-06 01:15:43.374281: I tensorflow/tsl/framework/bfc_allocator.cc:1109] Total bytes in pool: 2933391360 memory_limit_: 2933391360 available bytes: 0 curr_region_allocation_bytes_: 5866782720\n",
      "2023-08-06 01:15:43.374316: I tensorflow/tsl/framework/bfc_allocator.cc:1114] Stats: \n",
      "Limit:                      2933391360\n",
      "InUse:                      2620125184\n",
      "MaxInUse:                   2653602816\n",
      "NumAllocs:                     5023177\n",
      "MaxAllocSize:               2211840000\n",
      "Reserved:                            0\n",
      "PeakReserved:                        0\n",
      "LargestFreeBlock:                    0\n",
      "\n",
      "2023-08-06 01:15:43.374370: W tensorflow/tsl/framework/bfc_allocator.cc:497] ******************************************************************************************__________\n"
     ]
    }
   ],
   "source": [
    "loss, accu = model_cvnn.evaluate(test_images_hil, test_labels)"
   ]
  },
  {
   "cell_type": "code",
   "execution_count": null,
   "metadata": {},
   "outputs": [],
   "source": [
    "print(f\"The loss in the CVNN is:{loss}, the accuracy is: {accu}\")"
   ]
  }
 ],
 "metadata": {
  "kernelspec": {
   "display_name": "tf",
   "language": "python",
   "name": "python3"
  },
  "language_info": {
   "codemirror_mode": {
    "name": "ipython",
    "version": 3
   },
   "file_extension": ".py",
   "mimetype": "text/x-python",
   "name": "python",
   "nbconvert_exporter": "python",
   "pygments_lexer": "ipython3",
   "version": "3.9.17"
  },
  "orig_nbformat": 4
 },
 "nbformat": 4,
 "nbformat_minor": 2
}
