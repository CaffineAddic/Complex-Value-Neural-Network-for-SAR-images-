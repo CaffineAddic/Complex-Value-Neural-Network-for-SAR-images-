{
 "cells": [
  {
   "cell_type": "code",
   "execution_count": null,
   "metadata": {},
   "outputs": [],
   "source": [
    "import os\n",
    "from imageio import imread\n",
    "from pathlib import Path\n",
    "import numpy as np"
   ]
  },
  {
   "cell_type": "code",
   "execution_count": null,
   "metadata": {},
   "outputs": [],
   "source": [
    "from tensorflow.keras import datasets\n",
    "from tensorflow.keras.utils import to_categorical\n",
    "\n",
    "(train_images_org, train_labels), (test_images_org, test_labels) = datasets.cifar10.load_data()\n",
    "train_images, test_images = train_images_org.astype(dtype=np.complex64) / 255.0, test_images_org.astype(dtype=np.complex64) / 255.0\n",
    "train_labels = to_categorical(train_labels, 10)\n",
    "test_labels = to_categorical(test_labels, 10)"
   ]
  },
  {
   "cell_type": "code",
   "execution_count": null,
   "metadata": {},
   "outputs": [],
   "source": [
    "from tensorflow.keras import models\n",
    "import tensorflow.keras.layers as layers\n",
    "\n",
    "def get_tf_sequential_model():\n",
    "    model = models.Sequential()\n",
    "    model.add(layers.Input(shape=(32, 32, 3)))   # Always use ComplexInput at the start\n",
    "    model.add(layers.Conv2D(32, (3, 3), activation=\"relu\"))\n",
    "    model.add(layers.MaxPooling2D((2, 2)))\n",
    "    model.add(layers.Conv2D(64, (3, 3), activation=\"relu\"))\n",
    "    model.add(layers.MaxPooling2D((2, 2)))\n",
    "    model.add(layers.Conv2D(64, (3, 3), activation=\"relu\"))\n",
    "    model.add(layers.Flatten())\n",
    "    model.add(layers.Dense(64, activation=\"relu\"))\n",
    "    model.add(layers.Dense(10, activation='softmax'))\n",
    "    return model\n",
    "\n",
    "get_tf_sequential_model().summary()"
   ]
  },
  {
   "cell_type": "code",
   "execution_count": null,
   "metadata": {},
   "outputs": [],
   "source": [
    "import cvnn.layers as complex_layers\n",
    "\n",
    "def get_cvnn_sequential_model():\n",
    "    model = models.Sequential()\n",
    "    model.add(complex_layers.ComplexInput(input_shape=(32, 32, 3)))   # Always use ComplexInput at the start\n",
    "    model.add(complex_layers.ComplexConv2D(32, (3, 3), activation=\"cart_relu\"))\n",
    "    model.add(complex_layers.ComplexMaxPooling2D((2, 2)))\n",
    "    model.add(complex_layers.ComplexConv2D(64, (3, 3), activation=\"cart_relu\"))\n",
    "    model.add(complex_layers.ComplexMaxPooling2D((2, 2)))\n",
    "    model.add(complex_layers.ComplexConv2D(64, (3, 3), activation=\"cart_relu\"))\n",
    "    model.add(complex_layers.ComplexFlatten())\n",
    "    model.add(complex_layers.ComplexDense(64, activation=\"cart_relu\"))\n",
    "    model.add(complex_layers.ComplexDense(10, activation='softmax_real_with_abs'))\n",
    "    return model\n",
    "\n",
    "get_cvnn_sequential_model().summary()"
   ]
  },
  {
   "cell_type": "markdown",
   "metadata": {},
   "source": [
    "#### Adding a imaginary component into the real data and running the value and using CVNN"
   ]
  },
  {
   "cell_type": "code",
   "execution_count": null,
   "metadata": {},
   "outputs": [],
   "source": [
    "#Running the CVNN model on the data\n",
    "\n",
    "from tensorflow import losses, metrics\n",
    "\n",
    "model_cvnn = get_cvnn_sequential_model()\n",
    "model_cvnn.compile(optimizer='sgd', loss='categorical_crossentropy', metrics='accuracy')\n",
    "    \n",
    "history = model_cvnn.fit(train_images_img, train_labels, epochs=100, validation_data=(test_images_img, test_labels),batch_size=32)"
   ]
  },
  {
   "cell_type": "code",
   "execution_count": null,
   "metadata": {},
   "outputs": [],
   "source": [
    "#Running an ANN on the data while ignoring the imaginary values\n",
    "\n",
    "model_ann = get_tf_sequential_model()\n",
    "model_ann.compile(optimizer='sgd', loss='categorical_crossentropy', metrics='accuracy')\n",
    "    \n",
    "history = model_ann.fit(train_images_img, train_labels, epochs=100, validation_data=(test_images_img, test_labels),batch_size=32)"
   ]
  },
  {
   "cell_type": "markdown",
   "metadata": {},
   "source": [
    "#### Now mapping the data from the real plane to the complex plane using Hilberts transform"
   ]
  },
  {
   "cell_type": "code",
   "execution_count": null,
   "metadata": {},
   "outputs": [],
   "source": [
    "import scipy\n",
    "\n",
    "train_images_hil, test_images_hil = scipy.signal.hilbert(train_images_org / 255), scipy.signal.hilbert(test_images_org / 255)"
   ]
  },
  {
   "cell_type": "code",
   "execution_count": 8,
   "metadata": {},
   "outputs": [
    {
     "name": "stdout",
     "output_type": "stream",
     "text": [
      "1444/1563 [==========================>...] - ETA: 6s - loss: 1.9369 - accuracy: 0.2946"
     ]
    }
   ],
   "source": [
    "#Running the CVNN model on the hilbert data\n",
    "\n",
    "from tensorflow import losses, metrics\n",
    "\n",
    "model_cvnn = get_cvnn_sequential_model()\n",
    "model_cvnn.compile(optimizer='sgd', loss='categorical_crossentropy', metrics='accuracy')\n",
    "    \n",
    "history = model_cvnn.fit(train_images_hil, train_labels, epochs=100, validation_data=(test_images_hil, test_labels),batch_size=32)"
   ]
  },
  {
   "cell_type": "code",
   "execution_count": null,
   "metadata": {},
   "outputs": [],
   "source": []
  }
 ],
 "metadata": {
  "kernelspec": {
   "display_name": "tf",
   "language": "python",
   "name": "python3"
  },
  "language_info": {
   "codemirror_mode": {
    "name": "ipython",
    "version": 3
   },
   "file_extension": ".py",
   "mimetype": "text/x-python",
   "name": "python",
   "nbconvert_exporter": "python",
   "pygments_lexer": "ipython3",
   "version": "3.9.16"
  },
  "orig_nbformat": 4
 },
 "nbformat": 4,
 "nbformat_minor": 2
}
