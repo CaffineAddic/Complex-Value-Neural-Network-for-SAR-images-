{
 "cells": [
  {
   "cell_type": "code",
   "execution_count": 1,
   "metadata": {},
   "outputs": [],
   "source": [
    "import os\n",
    "from imageio import imread\n",
    "from pathlib import Path\n",
    "import numpy as np"
   ]
  },
  {
   "cell_type": "code",
   "execution_count": 2,
   "metadata": {},
   "outputs": [
    {
     "name": "stderr",
     "output_type": "stream",
     "text": [
      "2023-07-12 23:34:34.169882: I tensorflow/core/platform/cpu_feature_guard.cc:182] This TensorFlow binary is optimized to use available CPU instructions in performance-critical operations.\n",
      "To enable the following instructions: AVX2 FMA, in other operations, rebuild TensorFlow with the appropriate compiler flags.\n",
      "2023-07-12 23:34:36.289071: W tensorflow/compiler/tf2tensorrt/utils/py_utils.cc:38] TF-TRT Warning: Could not find TensorRT\n"
     ]
    }
   ],
   "source": [
    "from tensorflow.keras import datasets\n",
    "from tensorflow.keras.utils import to_categorical\n",
    "\n",
    "(train_images_org, train_labels), (test_images_org, test_labels) = datasets.cifar10.load_data()\n",
    "train_images_img, test_images_img = train_images_org.astype(dtype=np.complex64) / 255.0, test_images_org.astype(dtype=np.complex64) / 255.0\n",
    "train_labels = to_categorical(train_labels, 10)\n",
    "test_labels = to_categorical(test_labels, 10)"
   ]
  },
  {
   "cell_type": "code",
   "execution_count": 3,
   "metadata": {},
   "outputs": [
    {
     "name": "stderr",
     "output_type": "stream",
     "text": [
      "2023-07-12 23:34:42.009424: I tensorflow/compiler/xla/stream_executor/cuda/cuda_gpu_executor.cc:996] successful NUMA node read from SysFS had negative value (-1), but there must be at least one NUMA node, so returning NUMA node zero. See more at https://github.com/torvalds/linux/blob/v6.0/Documentation/ABI/testing/sysfs-bus-pci#L344-L355\n",
      "2023-07-12 23:34:42.351163: I tensorflow/compiler/xla/stream_executor/cuda/cuda_gpu_executor.cc:996] successful NUMA node read from SysFS had negative value (-1), but there must be at least one NUMA node, so returning NUMA node zero. See more at https://github.com/torvalds/linux/blob/v6.0/Documentation/ABI/testing/sysfs-bus-pci#L344-L355\n",
      "2023-07-12 23:34:42.351575: I tensorflow/compiler/xla/stream_executor/cuda/cuda_gpu_executor.cc:996] successful NUMA node read from SysFS had negative value (-1), but there must be at least one NUMA node, so returning NUMA node zero. See more at https://github.com/torvalds/linux/blob/v6.0/Documentation/ABI/testing/sysfs-bus-pci#L344-L355\n",
      "2023-07-12 23:34:42.353764: I tensorflow/compiler/xla/stream_executor/cuda/cuda_gpu_executor.cc:996] successful NUMA node read from SysFS had negative value (-1), but there must be at least one NUMA node, so returning NUMA node zero. See more at https://github.com/torvalds/linux/blob/v6.0/Documentation/ABI/testing/sysfs-bus-pci#L344-L355\n",
      "2023-07-12 23:34:42.354110: I tensorflow/compiler/xla/stream_executor/cuda/cuda_gpu_executor.cc:996] successful NUMA node read from SysFS had negative value (-1), but there must be at least one NUMA node, so returning NUMA node zero. See more at https://github.com/torvalds/linux/blob/v6.0/Documentation/ABI/testing/sysfs-bus-pci#L344-L355\n",
      "2023-07-12 23:34:42.354466: I tensorflow/compiler/xla/stream_executor/cuda/cuda_gpu_executor.cc:996] successful NUMA node read from SysFS had negative value (-1), but there must be at least one NUMA node, so returning NUMA node zero. See more at https://github.com/torvalds/linux/blob/v6.0/Documentation/ABI/testing/sysfs-bus-pci#L344-L355\n",
      "2023-07-12 23:34:42.453849: I tensorflow/compiler/xla/stream_executor/cuda/cuda_gpu_executor.cc:996] successful NUMA node read from SysFS had negative value (-1), but there must be at least one NUMA node, so returning NUMA node zero. See more at https://github.com/torvalds/linux/blob/v6.0/Documentation/ABI/testing/sysfs-bus-pci#L344-L355\n",
      "2023-07-12 23:34:42.454134: I tensorflow/compiler/xla/stream_executor/cuda/cuda_gpu_executor.cc:996] successful NUMA node read from SysFS had negative value (-1), but there must be at least one NUMA node, so returning NUMA node zero. See more at https://github.com/torvalds/linux/blob/v6.0/Documentation/ABI/testing/sysfs-bus-pci#L344-L355\n",
      "2023-07-12 23:34:42.454372: I tensorflow/compiler/xla/stream_executor/cuda/cuda_gpu_executor.cc:996] successful NUMA node read from SysFS had negative value (-1), but there must be at least one NUMA node, so returning NUMA node zero. See more at https://github.com/torvalds/linux/blob/v6.0/Documentation/ABI/testing/sysfs-bus-pci#L344-L355\n",
      "2023-07-12 23:34:42.454556: I tensorflow/core/common_runtime/gpu/gpu_device.cc:1635] Created device /job:localhost/replica:0/task:0/device:GPU:0 with 2797 MB memory:  -> device: 0, name: NVIDIA GeForce GTX 1650, pci bus id: 0000:01:00.0, compute capability: 7.5\n"
     ]
    },
    {
     "name": "stdout",
     "output_type": "stream",
     "text": [
      "Model: \"sequential\"\n",
      "_________________________________________________________________\n",
      " Layer (type)                Output Shape              Param #   \n",
      "=================================================================\n",
      " conv2d (Conv2D)             (None, 30, 30, 32)        896       \n",
      "                                                                 \n",
      " max_pooling2d (MaxPooling2D  (None, 15, 15, 32)       0         \n",
      " )                                                               \n",
      "                                                                 \n",
      " conv2d_1 (Conv2D)           (None, 13, 13, 64)        18496     \n",
      "                                                                 \n",
      " max_pooling2d_1 (MaxPooling  (None, 6, 6, 64)         0         \n",
      " 2D)                                                             \n",
      "                                                                 \n",
      " conv2d_2 (Conv2D)           (None, 4, 4, 64)          36928     \n",
      "                                                                 \n",
      " flatten (Flatten)           (None, 1024)              0         \n",
      "                                                                 \n",
      " dense (Dense)               (None, 64)                65600     \n",
      "                                                                 \n",
      " dense_1 (Dense)             (None, 10)                650       \n",
      "                                                                 \n",
      "=================================================================\n",
      "Total params: 122,570\n",
      "Trainable params: 122,570\n",
      "Non-trainable params: 0\n",
      "_________________________________________________________________\n"
     ]
    }
   ],
   "source": [
    "from tensorflow.keras import models\n",
    "import tensorflow.keras.layers as layers\n",
    "\n",
    "def get_tf_sequential_model():\n",
    "    model = models.Sequential()\n",
    "    model.add(layers.Input(shape=(32, 32, 3)))   # Always use ComplexInput at the start\n",
    "    model.add(layers.Conv2D(32, (3, 3), activation=\"relu\"))\n",
    "    model.add(layers.MaxPooling2D((2, 2)))\n",
    "    model.add(layers.Conv2D(64, (3, 3), activation=\"relu\"))\n",
    "    model.add(layers.MaxPooling2D((2, 2)))\n",
    "    model.add(layers.Conv2D(64, (3, 3), activation=\"relu\"))\n",
    "    model.add(layers.Flatten())\n",
    "    model.add(layers.Dense(64, activation=\"relu\"))\n",
    "    model.add(layers.Dense(10, activation='softmax'))\n",
    "    return model\n",
    "\n",
    "get_tf_sequential_model().summary()"
   ]
  },
  {
   "cell_type": "code",
   "execution_count": 4,
   "metadata": {},
   "outputs": [
    {
     "name": "stdout",
     "output_type": "stream",
     "text": [
      "Model: \"sequential_1\"\n",
      "_________________________________________________________________\n",
      " Layer (type)                Output Shape              Param #   \n",
      "=================================================================\n",
      " complex_conv2d (ComplexConv  (None, 30, 30, 32)       1792      \n",
      " 2D)                                                             \n",
      "                                                                 \n",
      " complex_max_pooling2d (Comp  (None, 15, 15, 32)       0         \n",
      " lexMaxPooling2D)                                                \n",
      "                                                                 \n",
      " complex_conv2d_1 (ComplexCo  (None, 13, 13, 64)       36992     \n",
      " nv2D)                                                           \n",
      "                                                                 \n",
      " complex_max_pooling2d_1 (Co  (None, 6, 6, 64)         0         \n",
      " mplexMaxPooling2D)                                              \n",
      "                                                                 \n",
      " complex_conv2d_2 (ComplexCo  (None, 4, 4, 64)         73856     \n",
      " nv2D)                                                           \n",
      "                                                                 \n",
      " complex_flatten (ComplexFla  (None, 1024)             0         \n",
      " tten)                                                           \n",
      "                                                                 \n",
      " complex_dense (ComplexDense  (None, 64)               131200    \n",
      " )                                                               \n",
      "                                                                 \n",
      " complex_dense_1 (ComplexDen  (None, 10)               1300      \n",
      " se)                                                             \n",
      "                                                                 \n",
      "=================================================================\n",
      "Total params: 245,140\n",
      "Trainable params: 245,140\n",
      "Non-trainable params: 0\n",
      "_________________________________________________________________\n"
     ]
    }
   ],
   "source": [
    "import cvnn.layers as complex_layers\n",
    "\n",
    "def get_cvnn_sequential_model():\n",
    "    model = models.Sequential()\n",
    "    model.add(complex_layers.ComplexInput(input_shape=(32, 32, 3)))   # Always use ComplexInput at the start\n",
    "    model.add(complex_layers.ComplexConv2D(32, (3, 3), activation=\"cart_relu\"))\n",
    "    model.add(complex_layers.ComplexMaxPooling2D((2, 2)))\n",
    "    model.add(complex_layers.ComplexConv2D(64, (3, 3), activation=\"cart_relu\"))\n",
    "    model.add(complex_layers.ComplexMaxPooling2D((2, 2)))\n",
    "    model.add(complex_layers.ComplexConv2D(64, (3, 3), activation=\"cart_relu\"))\n",
    "    model.add(complex_layers.ComplexFlatten())\n",
    "    model.add(complex_layers.ComplexDense(64, activation=\"cart_relu\"))\n",
    "    model.add(complex_layers.ComplexDense(10, activation='softmax_real_with_abs'))\n",
    "    return model\n",
    "\n",
    "get_cvnn_sequential_model().summary()"
   ]
  },
  {
   "cell_type": "markdown",
   "metadata": {},
   "source": [
    "#### Adding a imaginary component into the real data and running the value and using CVNN"
   ]
  },
  {
   "cell_type": "code",
   "execution_count": 5,
   "metadata": {},
   "outputs": [
    {
     "name": "stderr",
     "output_type": "stream",
     "text": [
      "2023-07-12 23:34:46.325160: W tensorflow/tsl/framework/cpu_allocator_impl.cc:83] Allocation of 1228800000 exceeds 10% of free system memory.\n",
      "2023-07-12 23:34:47.686799: W tensorflow/tsl/framework/cpu_allocator_impl.cc:83] Allocation of 1228800000 exceeds 10% of free system memory.\n"
     ]
    },
    {
     "name": "stdout",
     "output_type": "stream",
     "text": [
      "Epoch 1/100\n"
     ]
    },
    {
     "name": "stderr",
     "output_type": "stream",
     "text": [
      "2023-07-12 23:34:50.690925: I tensorflow/compiler/xla/stream_executor/cuda/cuda_dnn.cc:424] Loaded cuDNN version 8600\n",
      "2023-07-12 23:34:51.289692: I tensorflow/compiler/xla/service/service.cc:169] XLA service 0x7f0bcc1c0780 initialized for platform CUDA (this does not guarantee that XLA will be used). Devices:\n",
      "2023-07-12 23:34:51.289737: I tensorflow/compiler/xla/service/service.cc:177]   StreamExecutor device (0): NVIDIA GeForce GTX 1650, Compute Capability 7.5\n",
      "2023-07-12 23:34:51.445010: I ./tensorflow/compiler/jit/device_compiler.h:180] Compiled cluster using XLA!  This line is logged at most once for the lifetime of the process.\n"
     ]
    },
    {
     "name": "stdout",
     "output_type": "stream",
     "text": [
      " 474/1563 [========>.....................] - ETA: 51s - loss: 2.1761 - accuracy: 0.1975"
     ]
    }
   ],
   "source": [
    "#Running the CVNN model on the data\n",
    "\n",
    "from tensorflow import losses, metrics\n",
    "\n",
    "model_cvnn = get_cvnn_sequential_model()\n",
    "model_cvnn.compile(optimizer='sgd', loss='categorical_crossentropy', metrics='accuracy')\n",
    "    \n",
    "history = model_cvnn.fit(train_images_img, train_labels, epochs=100, validation_data=(test_images_img, test_labels),batch_size=32)"
   ]
  },
  {
   "cell_type": "code",
   "execution_count": null,
   "metadata": {},
   "outputs": [],
   "source": [
    "#Running an ANN on the data while ignoring the imaginary values\n",
    "\n",
    "model_ann = get_tf_sequential_model()\n",
    "model_ann.compile(optimizer='sgd', loss='categorical_crossentropy', metrics='accuracy')\n",
    "    \n",
    "history = model_ann.fit(train_images_img, train_labels, epochs=100, validation_data=(test_images_img, test_labels),batch_size=32)"
   ]
  },
  {
   "cell_type": "markdown",
   "metadata": {},
   "source": [
    "#### Now mapping the data from the real plane to the complex plane using Hilberts transform"
   ]
  },
  {
   "cell_type": "code",
   "execution_count": null,
   "metadata": {},
   "outputs": [],
   "source": [
    "import scipy\n",
    "\n",
    "train_images_hil, test_images_hil = scipy.signal.hilbert(train_images_org / 255), scipy.signal.hilbert(test_images_org / 255)"
   ]
  },
  {
   "cell_type": "code",
   "execution_count": null,
   "metadata": {},
   "outputs": [
    {
     "name": "stdout",
     "output_type": "stream",
     "text": [
      "1563/1563 [==============================] - ETA: 0s - loss: 1.9206 - accuracy: 0.3009"
     ]
    },
    {
     "name": "stderr",
     "output_type": "stream",
     "text": [
      "2023-07-12 23:32:18.703953: W tensorflow/tsl/framework/cpu_allocator_impl.cc:83] Allocation of 491520000 exceeds 10% of free system memory.\n",
      "2023-07-12 23:32:29.283290: W tensorflow/tsl/framework/bfc_allocator.cc:485] Allocator (GPU_0_bfc) ran out of memory trying to allocate 468.75MiB (rounded to 491520000)requested by op _EagerConst\n",
      "If the cause is memory fragmentation maybe the environment variable 'TF_GPU_ALLOCATOR=cuda_malloc_async' will improve the situation. \n",
      "Current allocation summary follows.\n",
      "Current allocation summary follows.\n",
      "2023-07-12 23:32:29.283414: I tensorflow/tsl/framework/bfc_allocator.cc:1039] BFCAllocator dump for GPU_0_bfc\n",
      "2023-07-12 23:32:29.283454: I tensorflow/tsl/framework/bfc_allocator.cc:1046] Bin (256): \tTotal Chunks: 57, Chunks in use: 57. 14.2KiB allocated for chunks. 14.2KiB in use in bin. 3.8KiB client-requested in use in bin.\n",
      "2023-07-12 23:32:29.283486: I tensorflow/tsl/framework/bfc_allocator.cc:1046] Bin (512): \tTotal Chunks: 0, Chunks in use: 0. 0B allocated for chunks. 0B in use in bin. 0B client-requested in use in bin.\n",
      "2023-07-12 23:32:29.283515: I tensorflow/tsl/framework/bfc_allocator.cc:1046] Bin (1024): \tTotal Chunks: 1, Chunks in use: 1. 1.2KiB allocated for chunks. 1.2KiB in use in bin. 1.0KiB client-requested in use in bin.\n",
      "2023-07-12 23:32:29.283545: I tensorflow/tsl/framework/bfc_allocator.cc:1046] Bin (2048): \tTotal Chunks: 7, Chunks in use: 7. 20.5KiB allocated for chunks. 20.5KiB in use in bin. 20.1KiB client-requested in use in bin.\n",
      "2023-07-12 23:32:29.283574: I tensorflow/tsl/framework/bfc_allocator.cc:1046] Bin (4096): \tTotal Chunks: 3, Chunks in use: 1. 19.2KiB allocated for chunks. 4.8KiB in use in bin. 3.4KiB client-requested in use in bin.\n",
      "2023-07-12 23:32:29.283601: I tensorflow/tsl/framework/bfc_allocator.cc:1046] Bin (8192): \tTotal Chunks: 1, Chunks in use: 0. 8.0KiB allocated for chunks. 0B in use in bin. 0B client-requested in use in bin.\n",
      "2023-07-12 23:32:29.283628: I tensorflow/tsl/framework/bfc_allocator.cc:1046] Bin (16384): \tTotal Chunks: 0, Chunks in use: 0. 0B allocated for chunks. 0B in use in bin. 0B client-requested in use in bin.\n",
      "2023-07-12 23:32:29.283653: I tensorflow/tsl/framework/bfc_allocator.cc:1046] Bin (32768): \tTotal Chunks: 0, Chunks in use: 0. 0B allocated for chunks. 0B in use in bin. 0B client-requested in use in bin.\n",
      "2023-07-12 23:32:29.283684: I tensorflow/tsl/framework/bfc_allocator.cc:1046] Bin (65536): \tTotal Chunks: 4, Chunks in use: 4. 379.2KiB allocated for chunks. 379.2KiB in use in bin. 288.0KiB client-requested in use in bin.\n",
      "2023-07-12 23:32:29.283714: I tensorflow/tsl/framework/bfc_allocator.cc:1046] Bin (131072): \tTotal Chunks: 4, Chunks in use: 3. 581.0KiB allocated for chunks. 432.0KiB in use in bin. 432.0KiB client-requested in use in bin.\n",
      "2023-07-12 23:32:29.283742: I tensorflow/tsl/framework/bfc_allocator.cc:1046] Bin (262144): \tTotal Chunks: 6, Chunks in use: 5. 1.71MiB allocated for chunks. 1.25MiB in use in bin. 1.14MiB client-requested in use in bin.\n",
      "2023-07-12 23:32:29.283769: I tensorflow/tsl/framework/bfc_allocator.cc:1046] Bin (524288): \tTotal Chunks: 2, Chunks in use: 0. 1.43MiB allocated for chunks. 0B in use in bin. 0B client-requested in use in bin.\n",
      "2023-07-12 23:32:29.283797: I tensorflow/tsl/framework/bfc_allocator.cc:1046] Bin (1048576): \tTotal Chunks: 1, Chunks in use: 1. 1.91MiB allocated for chunks. 1.91MiB in use in bin. 1.91MiB client-requested in use in bin.\n",
      "2023-07-12 23:32:29.283823: I tensorflow/tsl/framework/bfc_allocator.cc:1046] Bin (2097152): \tTotal Chunks: 0, Chunks in use: 0. 0B allocated for chunks. 0B in use in bin. 0B client-requested in use in bin.\n",
      "2023-07-12 23:32:29.283848: I tensorflow/tsl/framework/bfc_allocator.cc:1046] Bin (4194304): \tTotal Chunks: 0, Chunks in use: 0. 0B allocated for chunks. 0B in use in bin. 0B client-requested in use in bin.\n",
      "2023-07-12 23:32:29.283873: I tensorflow/tsl/framework/bfc_allocator.cc:1046] Bin (8388608): \tTotal Chunks: 0, Chunks in use: 0. 0B allocated for chunks. 0B in use in bin. 0B client-requested in use in bin.\n",
      "2023-07-12 23:32:29.283898: I tensorflow/tsl/framework/bfc_allocator.cc:1046] Bin (16777216): \tTotal Chunks: 0, Chunks in use: 0. 0B allocated for chunks. 0B in use in bin. 0B client-requested in use in bin.\n",
      "2023-07-12 23:32:29.283929: I tensorflow/tsl/framework/bfc_allocator.cc:1046] Bin (33554432): \tTotal Chunks: 0, Chunks in use: 0. 0B allocated for chunks. 0B in use in bin. 0B client-requested in use in bin.\n",
      "2023-07-12 23:32:29.283954: I tensorflow/tsl/framework/bfc_allocator.cc:1046] Bin (67108864): \tTotal Chunks: 0, Chunks in use: 0. 0B allocated for chunks. 0B in use in bin. 0B client-requested in use in bin.\n",
      "2023-07-12 23:32:29.283980: I tensorflow/tsl/framework/bfc_allocator.cc:1046] Bin (134217728): \tTotal Chunks: 0, Chunks in use: 0. 0B allocated for chunks. 0B in use in bin. 0B client-requested in use in bin.\n",
      "2023-07-12 23:32:29.284007: I tensorflow/tsl/framework/bfc_allocator.cc:1046] Bin (268435456): \tTotal Chunks: 2, Chunks in use: 1. 2.73GiB allocated for chunks. 2.29GiB in use in bin. 2.29GiB client-requested in use in bin.\n",
      "2023-07-12 23:32:29.284037: I tensorflow/tsl/framework/bfc_allocator.cc:1062] Bin for 468.75MiB was 256.00MiB, Chunk State: \n",
      "2023-07-12 23:32:29.284072: I tensorflow/tsl/framework/bfc_allocator.cc:1068]   Size: 447.70MiB | Requested Size: 1.76MiB | in_use: 0 | bin_num: 20, prev:   Size: 256.0KiB | Requested Size: 256.0KiB | in_use: 1 | bin_num: -1\n",
      "2023-07-12 23:32:29.284097: I tensorflow/tsl/framework/bfc_allocator.cc:1075] Next region of size 2933391360\n",
      "2023-07-12 23:32:29.284123: I tensorflow/tsl/framework/bfc_allocator.cc:1095] InUse at 7f2688000000 of size 256 next 1\n",
      "2023-07-12 23:32:29.284144: I tensorflow/tsl/framework/bfc_allocator.cc:1095] InUse at 7f2688000100 of size 1280 next 2\n",
      "2023-07-12 23:32:29.284165: I tensorflow/tsl/framework/bfc_allocator.cc:1095] InUse at 7f2688000600 of size 256 next 3\n",
      "2023-07-12 23:32:29.284185: I tensorflow/tsl/framework/bfc_allocator.cc:1095] InUse at 7f2688000700 of size 256 next 4\n",
      "2023-07-12 23:32:29.284205: I tensorflow/tsl/framework/bfc_allocator.cc:1095] InUse at 7f2688000800 of size 256 next 6\n",
      "2023-07-12 23:32:29.284225: I tensorflow/tsl/framework/bfc_allocator.cc:1095] InUse at 7f2688000900 of size 256 next 7\n",
      "2023-07-12 23:32:29.284245: I tensorflow/tsl/framework/bfc_allocator.cc:1095] InUse at 7f2688000a00 of size 256 next 5\n",
      "2023-07-12 23:32:29.284265: I tensorflow/tsl/framework/bfc_allocator.cc:1095] InUse at 7f2688000b00 of size 256 next 8\n",
      "2023-07-12 23:32:29.284285: I tensorflow/tsl/framework/bfc_allocator.cc:1095] InUse at 7f2688000c00 of size 256 next 13\n",
      "2023-07-12 23:32:29.284304: I tensorflow/tsl/framework/bfc_allocator.cc:1095] InUse at 7f2688000d00 of size 256 next 11\n",
      "2023-07-12 23:32:29.284324: I tensorflow/tsl/framework/bfc_allocator.cc:1095] InUse at 7f2688000e00 of size 256 next 12\n",
      "2023-07-12 23:32:29.284344: I tensorflow/tsl/framework/bfc_allocator.cc:1095] InUse at 7f2688000f00 of size 256 next 16\n",
      "2023-07-12 23:32:29.284364: I tensorflow/tsl/framework/bfc_allocator.cc:1095] InUse at 7f2688001000 of size 256 next 17\n",
      "2023-07-12 23:32:29.284399: I tensorflow/tsl/framework/bfc_allocator.cc:1095] InUse at 7f2688001100 of size 256 next 20\n",
      "2023-07-12 23:32:29.284419: I tensorflow/tsl/framework/bfc_allocator.cc:1095] InUse at 7f2688001200 of size 256 next 23\n",
      "2023-07-12 23:32:29.284439: I tensorflow/tsl/framework/bfc_allocator.cc:1095] InUse at 7f2688001300 of size 256 next 21\n",
      "2023-07-12 23:32:29.284459: I tensorflow/tsl/framework/bfc_allocator.cc:1095] InUse at 7f2688001400 of size 256 next 22\n",
      "2023-07-12 23:32:29.284479: I tensorflow/tsl/framework/bfc_allocator.cc:1095] InUse at 7f2688001500 of size 256 next 10\n",
      "2023-07-12 23:32:29.284498: I tensorflow/tsl/framework/bfc_allocator.cc:1095] InUse at 7f2688001600 of size 256 next 51\n",
      "2023-07-12 23:32:29.284518: I tensorflow/tsl/framework/bfc_allocator.cc:1095] InUse at 7f2688001700 of size 256 next 24\n",
      "2023-07-12 23:32:29.284557: I tensorflow/tsl/framework/bfc_allocator.cc:1095] InUse at 7f2688001800 of size 256 next 19\n",
      "2023-07-12 23:32:29.284577: I tensorflow/tsl/framework/bfc_allocator.cc:1095] InUse at 7f2688001900 of size 256 next 52\n",
      "2023-07-12 23:32:29.284597: I tensorflow/tsl/framework/bfc_allocator.cc:1095] InUse at 7f2688001a00 of size 256 next 26\n",
      "2023-07-12 23:32:29.284619: I tensorflow/tsl/framework/bfc_allocator.cc:1095] InUse at 7f2688001b00 of size 256 next 33\n",
      "2023-07-12 23:32:29.284639: I tensorflow/tsl/framework/bfc_allocator.cc:1095] InUse at 7f2688001c00 of size 256 next 54\n",
      "2023-07-12 23:32:29.284659: I tensorflow/tsl/framework/bfc_allocator.cc:1095] InUse at 7f2688001d00 of size 256 next 35\n",
      "2023-07-12 23:32:29.284678: I tensorflow/tsl/framework/bfc_allocator.cc:1095] InUse at 7f2688001e00 of size 256 next 36\n",
      "2023-07-12 23:32:29.284699: I tensorflow/tsl/framework/bfc_allocator.cc:1095] InUse at 7f2688001f00 of size 4864 next 29\n",
      "2023-07-12 23:32:29.284720: I tensorflow/tsl/framework/bfc_allocator.cc:1095] InUse at 7f2688003200 of size 256 next 56\n",
      "2023-07-12 23:32:29.284741: I tensorflow/tsl/framework/bfc_allocator.cc:1095] InUse at 7f2688003300 of size 256 next 45\n",
      "2023-07-12 23:32:29.284762: I tensorflow/tsl/framework/bfc_allocator.cc:1095] Free  at 7f2688003400 of size 7168 next 64\n",
      "2023-07-12 23:32:29.284783: I tensorflow/tsl/framework/bfc_allocator.cc:1095] InUse at 7f2688005000 of size 256 next 67\n",
      "2023-07-12 23:32:29.284803: I tensorflow/tsl/framework/bfc_allocator.cc:1095] InUse at 7f2688005100 of size 256 next 31\n",
      "2023-07-12 23:32:29.284824: I tensorflow/tsl/framework/bfc_allocator.cc:1095] InUse at 7f2688005200 of size 256 next 69\n",
      "2023-07-12 23:32:29.284844: I tensorflow/tsl/framework/bfc_allocator.cc:1095] InUse at 7f2688005300 of size 256 next 70\n",
      "2023-07-12 23:32:29.284864: I tensorflow/tsl/framework/bfc_allocator.cc:1095] InUse at 7f2688005400 of size 256 next 71\n",
      "2023-07-12 23:32:29.284884: I tensorflow/tsl/framework/bfc_allocator.cc:1095] InUse at 7f2688005500 of size 256 next 72\n",
      "2023-07-12 23:32:29.284905: I tensorflow/tsl/framework/bfc_allocator.cc:1095] InUse at 7f2688005600 of size 256 next 75\n",
      "2023-07-12 23:32:29.284925: I tensorflow/tsl/framework/bfc_allocator.cc:1095] InUse at 7f2688005700 of size 256 next 76\n",
      "2023-07-12 23:32:29.284945: I tensorflow/tsl/framework/bfc_allocator.cc:1095] InUse at 7f2688005800 of size 256 next 43\n",
      "2023-07-12 23:32:29.284965: I tensorflow/tsl/framework/bfc_allocator.cc:1095] Free  at 7f2688005900 of size 7680 next 42\n",
      "2023-07-12 23:32:29.284985: I tensorflow/tsl/framework/bfc_allocator.cc:1095] InUse at 7f2688007700 of size 256 next 79\n",
      "2023-07-12 23:32:29.285006: I tensorflow/tsl/framework/bfc_allocator.cc:1095] InUse at 7f2688007800 of size 256 next 80\n",
      "2023-07-12 23:32:29.285026: I tensorflow/tsl/framework/bfc_allocator.cc:1095] InUse at 7f2688007900 of size 256 next 83\n",
      "2023-07-12 23:32:29.285047: I tensorflow/tsl/framework/bfc_allocator.cc:1095] InUse at 7f2688007a00 of size 256 next 102\n",
      "2023-07-12 23:32:29.285067: I tensorflow/tsl/framework/bfc_allocator.cc:1095] InUse at 7f2688007b00 of size 256 next 104\n",
      "2023-07-12 23:32:29.285087: I tensorflow/tsl/framework/bfc_allocator.cc:1095] InUse at 7f2688007c00 of size 256 next 105\n",
      "2023-07-12 23:32:29.285107: I tensorflow/tsl/framework/bfc_allocator.cc:1095] InUse at 7f2688007d00 of size 256 next 108\n",
      "2023-07-12 23:32:29.285128: I tensorflow/tsl/framework/bfc_allocator.cc:1095] InUse at 7f2688007e00 of size 256 next 109\n",
      "2023-07-12 23:32:29.285148: I tensorflow/tsl/framework/bfc_allocator.cc:1095] InUse at 7f2688007f00 of size 256 next 112\n",
      "2023-07-12 23:32:29.285168: I tensorflow/tsl/framework/bfc_allocator.cc:1095] InUse at 7f2688008000 of size 256 next 113\n",
      "2023-07-12 23:32:29.285188: I tensorflow/tsl/framework/bfc_allocator.cc:1095] Free  at 7f2688008100 of size 8192 next 50\n",
      "2023-07-12 23:32:29.285209: I tensorflow/tsl/framework/bfc_allocator.cc:1095] InUse at 7f268800a100 of size 126208 next 15\n",
      "2023-07-12 23:32:29.285230: I tensorflow/tsl/framework/bfc_allocator.cc:1095] Free  at 7f2688028e00 of size 152576 next 66\n",
      "2023-07-12 23:32:29.285251: I tensorflow/tsl/framework/bfc_allocator.cc:1095] InUse at 7f268804e200 of size 3584 next 73\n",
      "2023-07-12 23:32:29.285272: I tensorflow/tsl/framework/bfc_allocator.cc:1095] InUse at 7f268804f000 of size 3584 next 74\n",
      "2023-07-12 23:32:29.285294: I tensorflow/tsl/framework/bfc_allocator.cc:1095] InUse at 7f268804fe00 of size 256 next 87\n",
      "2023-07-12 23:32:29.285314: I tensorflow/tsl/framework/bfc_allocator.cc:1095] InUse at 7f268804ff00 of size 256 next 88\n",
      "2023-07-12 23:32:29.285334: I tensorflow/tsl/framework/bfc_allocator.cc:1095] InUse at 7f2688050000 of size 256 next 92\n",
      "2023-07-12 23:32:29.285353: I tensorflow/tsl/framework/bfc_allocator.cc:1095] InUse at 7f2688050100 of size 256 next 93\n",
      "2023-07-12 23:32:29.285390: I tensorflow/tsl/framework/bfc_allocator.cc:1095] InUse at 7f2688050200 of size 256 next 96\n",
      "2023-07-12 23:32:29.285412: I tensorflow/tsl/framework/bfc_allocator.cc:1095] InUse at 7f2688050300 of size 256 next 97\n",
      "2023-07-12 23:32:29.285432: I tensorflow/tsl/framework/bfc_allocator.cc:1095] InUse at 7f2688050400 of size 256 next 98\n",
      "2023-07-12 23:32:29.285452: I tensorflow/tsl/framework/bfc_allocator.cc:1095] InUse at 7f2688050500 of size 256 next 100\n",
      "2023-07-12 23:32:29.285472: I tensorflow/tsl/framework/bfc_allocator.cc:1095] InUse at 7f2688050600 of size 256 next 101\n",
      "2023-07-12 23:32:29.285491: I tensorflow/tsl/framework/bfc_allocator.cc:1095] InUse at 7f2688050700 of size 256 next 90\n",
      "2023-07-12 23:32:29.285512: I tensorflow/tsl/framework/bfc_allocator.cc:1095] InUse at 7f2688050800 of size 2560 next 89\n",
      "2023-07-12 23:32:29.285533: I tensorflow/tsl/framework/bfc_allocator.cc:1095] InUse at 7f2688051200 of size 2560 next 91\n",
      "2023-07-12 23:32:29.285553: I tensorflow/tsl/framework/bfc_allocator.cc:1095] InUse at 7f2688051c00 of size 3584 next 99\n",
      "2023-07-12 23:32:29.285573: I tensorflow/tsl/framework/bfc_allocator.cc:1095] InUse at 7f2688052a00 of size 2560 next 110\n",
      "2023-07-12 23:32:29.285593: I tensorflow/tsl/framework/bfc_allocator.cc:1095] InUse at 7f2688053400 of size 2560 next 111\n",
      "2023-07-12 23:32:29.285613: I tensorflow/tsl/framework/bfc_allocator.cc:1095] Free  at 7f2688053e00 of size 487424 next 53\n",
      "2023-07-12 23:32:29.285634: I tensorflow/tsl/framework/bfc_allocator.cc:1095] InUse at 7f26880cae00 of size 147456 next 103\n",
      "2023-07-12 23:32:29.285654: I tensorflow/tsl/framework/bfc_allocator.cc:1095] Free  at 7f26880eee00 of size 974848 next 58\n",
      "2023-07-12 23:32:29.285674: I tensorflow/tsl/framework/bfc_allocator.cc:1095] InUse at 7f26881dce00 of size 73728 next 77\n",
      "2023-07-12 23:32:29.285695: I tensorflow/tsl/framework/bfc_allocator.cc:1095] InUse at 7f26881eee00 of size 73728 next 78\n",
      "2023-07-12 23:32:29.285715: I tensorflow/tsl/framework/bfc_allocator.cc:1095] InUse at 7f2688200e00 of size 114688 next 61\n",
      "2023-07-12 23:32:29.285735: I tensorflow/tsl/framework/bfc_allocator.cc:1095] Free  at 7f268821ce00 of size 524288 next 62\n",
      "2023-07-12 23:32:29.285755: I tensorflow/tsl/framework/bfc_allocator.cc:1095] InUse at 7f268829ce00 of size 147456 next 81\n",
      "2023-07-12 23:32:29.285775: I tensorflow/tsl/framework/bfc_allocator.cc:1095] InUse at 7f26882c0e00 of size 147456 next 82\n",
      "2023-07-12 23:32:29.285827: I tensorflow/tsl/framework/bfc_allocator.cc:1095] InUse at 7f26882e4e00 of size 262144 next 85\n",
      "2023-07-12 23:32:29.285874: I tensorflow/tsl/framework/bfc_allocator.cc:1095] InUse at 7f2688324e00 of size 262144 next 84\n",
      "2023-07-12 23:32:29.285925: I tensorflow/tsl/framework/bfc_allocator.cc:1095] InUse at 7f2688364e00 of size 262144 next 86\n",
      "2023-07-12 23:32:29.285956: I tensorflow/tsl/framework/bfc_allocator.cc:1095] InUse at 7f26883a4e00 of size 2457600000 next 94\n",
      "2023-07-12 23:32:29.285978: I tensorflow/tsl/framework/bfc_allocator.cc:1095] InUse at 7f271ab64e00 of size 2000128 next 95\n",
      "2023-07-12 23:32:29.286000: I tensorflow/tsl/framework/bfc_allocator.cc:1095] InUse at 7f271ad4d300 of size 262144 next 106\n",
      "2023-07-12 23:32:29.286021: I tensorflow/tsl/framework/bfc_allocator.cc:1095] InUse at 7f271ad8d300 of size 262144 next 107\n",
      "2023-07-12 23:32:29.286042: I tensorflow/tsl/framework/bfc_allocator.cc:1095] Free  at 7f271adcd300 of size 469445888 next 18446744073709551615\n",
      "2023-07-12 23:32:29.286066: I tensorflow/tsl/framework/bfc_allocator.cc:1100]      Summary of in-use Chunks by size: \n",
      "2023-07-12 23:32:29.286096: I tensorflow/tsl/framework/bfc_allocator.cc:1103] 57 Chunks of size 256 totalling 14.2KiB\n",
      "2023-07-12 23:32:29.286121: I tensorflow/tsl/framework/bfc_allocator.cc:1103] 1 Chunks of size 1280 totalling 1.2KiB\n",
      "2023-07-12 23:32:29.286144: I tensorflow/tsl/framework/bfc_allocator.cc:1103] 4 Chunks of size 2560 totalling 10.0KiB\n",
      "2023-07-12 23:32:29.286167: I tensorflow/tsl/framework/bfc_allocator.cc:1103] 3 Chunks of size 3584 totalling 10.5KiB\n",
      "2023-07-12 23:32:29.286188: I tensorflow/tsl/framework/bfc_allocator.cc:1103] 1 Chunks of size 4864 totalling 4.8KiB\n",
      "2023-07-12 23:32:29.286211: I tensorflow/tsl/framework/bfc_allocator.cc:1103] 2 Chunks of size 73728 totalling 144.0KiB\n",
      "2023-07-12 23:32:29.286234: I tensorflow/tsl/framework/bfc_allocator.cc:1103] 1 Chunks of size 114688 totalling 112.0KiB\n",
      "2023-07-12 23:32:29.286257: I tensorflow/tsl/framework/bfc_allocator.cc:1103] 1 Chunks of size 126208 totalling 123.2KiB\n",
      "2023-07-12 23:32:29.286279: I tensorflow/tsl/framework/bfc_allocator.cc:1103] 3 Chunks of size 147456 totalling 432.0KiB\n",
      "2023-07-12 23:32:29.286301: I tensorflow/tsl/framework/bfc_allocator.cc:1103] 5 Chunks of size 262144 totalling 1.25MiB\n",
      "2023-07-12 23:32:29.286323: I tensorflow/tsl/framework/bfc_allocator.cc:1103] 1 Chunks of size 2000128 totalling 1.91MiB\n",
      "2023-07-12 23:32:29.286345: I tensorflow/tsl/framework/bfc_allocator.cc:1103] 1 Chunks of size 2457600000 totalling 2.29GiB\n",
      "2023-07-12 23:32:29.286384: I tensorflow/tsl/framework/bfc_allocator.cc:1107] Sum Total of in-use chunks: 2.29GiB\n",
      "2023-07-12 23:32:29.286410: I tensorflow/tsl/framework/bfc_allocator.cc:1109] Total bytes in pool: 2933391360 memory_limit_: 2933391360 available bytes: 0 curr_region_allocation_bytes_: 5866782720\n",
      "2023-07-12 23:32:29.286463: I tensorflow/tsl/framework/bfc_allocator.cc:1114] Stats: \n",
      "Limit:                      2933391360\n",
      "InUse:                      2461783296\n",
      "MaxInUse:                   2552288512\n",
      "NumAllocs:                      403858\n",
      "MaxAllocSize:               2457600000\n",
      "Reserved:                            0\n",
      "PeakReserved:                        0\n",
      "LargestFreeBlock:                    0\n",
      "\n",
      "2023-07-12 23:32:29.286511: W tensorflow/tsl/framework/bfc_allocator.cc:497] ************************************************************************************________________\n"
     ]
    },
    {
     "ename": "InternalError",
     "evalue": "Failed copying input tensor from /job:localhost/replica:0/task:0/device:CPU:0 to /job:localhost/replica:0/task:0/device:GPU:0 in order to run _EagerConst: Dst tensor is not initialized.",
     "output_type": "error",
     "traceback": [
      "\u001b[0;31m---------------------------------------------------------------------------\u001b[0m",
      "\u001b[0;31mInternalError\u001b[0m                             Traceback (most recent call last)",
      "Cell \u001b[0;32mIn[8], line 8\u001b[0m\n\u001b[1;32m      5\u001b[0m model_cvnn \u001b[39m=\u001b[39m get_cvnn_sequential_model()\n\u001b[1;32m      6\u001b[0m model_cvnn\u001b[39m.\u001b[39mcompile(optimizer\u001b[39m=\u001b[39m\u001b[39m'\u001b[39m\u001b[39msgd\u001b[39m\u001b[39m'\u001b[39m, loss\u001b[39m=\u001b[39m\u001b[39m'\u001b[39m\u001b[39mcategorical_crossentropy\u001b[39m\u001b[39m'\u001b[39m, metrics\u001b[39m=\u001b[39m\u001b[39m'\u001b[39m\u001b[39maccuracy\u001b[39m\u001b[39m'\u001b[39m)\n\u001b[0;32m----> 8\u001b[0m history \u001b[39m=\u001b[39m model_cvnn\u001b[39m.\u001b[39;49mfit(train_images_hil, train_labels, epochs\u001b[39m=\u001b[39;49m\u001b[39m100\u001b[39;49m, validation_data\u001b[39m=\u001b[39;49m(test_images_hil, test_labels),batch_size\u001b[39m=\u001b[39;49m\u001b[39m32\u001b[39;49m)\n",
      "File \u001b[0;32m~/.conda/envs/tf2/lib/python3.9/site-packages/keras/utils/traceback_utils.py:70\u001b[0m, in \u001b[0;36mfilter_traceback.<locals>.error_handler\u001b[0;34m(*args, **kwargs)\u001b[0m\n\u001b[1;32m     67\u001b[0m     filtered_tb \u001b[39m=\u001b[39m _process_traceback_frames(e\u001b[39m.\u001b[39m__traceback__)\n\u001b[1;32m     68\u001b[0m     \u001b[39m# To get the full stack trace, call:\u001b[39;00m\n\u001b[1;32m     69\u001b[0m     \u001b[39m# `tf.debugging.disable_traceback_filtering()`\u001b[39;00m\n\u001b[0;32m---> 70\u001b[0m     \u001b[39mraise\u001b[39;00m e\u001b[39m.\u001b[39mwith_traceback(filtered_tb) \u001b[39mfrom\u001b[39;00m \u001b[39mNone\u001b[39;00m\n\u001b[1;32m     71\u001b[0m \u001b[39mfinally\u001b[39;00m:\n\u001b[1;32m     72\u001b[0m     \u001b[39mdel\u001b[39;00m filtered_tb\n",
      "File \u001b[0;32m~/.conda/envs/tf2/lib/python3.9/site-packages/tensorflow/python/framework/constant_op.py:103\u001b[0m, in \u001b[0;36mconvert_to_eager_tensor\u001b[0;34m(value, ctx, dtype)\u001b[0m\n\u001b[1;32m    101\u001b[0m     dtype \u001b[39m=\u001b[39m dtypes\u001b[39m.\u001b[39mas_dtype(dtype)\u001b[39m.\u001b[39mas_datatype_enum\n\u001b[1;32m    102\u001b[0m ctx\u001b[39m.\u001b[39mensure_initialized()\n\u001b[0;32m--> 103\u001b[0m \u001b[39mreturn\u001b[39;00m ops\u001b[39m.\u001b[39;49mEagerTensor(value, ctx\u001b[39m.\u001b[39;49mdevice_name, dtype)\n",
      "\u001b[0;31mInternalError\u001b[0m: Failed copying input tensor from /job:localhost/replica:0/task:0/device:CPU:0 to /job:localhost/replica:0/task:0/device:GPU:0 in order to run _EagerConst: Dst tensor is not initialized."
     ]
    }
   ],
   "source": [
    "#Running the CVNN model on the hilbert data\n",
    "\n",
    "from tensorflow import losses, metrics\n",
    "\n",
    "model_cvnn = get_cvnn_sequential_model()\n",
    "model_cvnn.compile(optimizer='sgd', loss='categorical_crossentropy', metrics='accuracy')\n",
    "    \n",
    "history = model_cvnn.fit(train_images_hil, train_labels, epochs=100, validation_data=(test_images_hil, test_labels),batch_size=32)"
   ]
  },
  {
   "cell_type": "code",
   "execution_count": null,
   "metadata": {},
   "outputs": [],
   "source": []
  }
 ],
 "metadata": {
  "kernelspec": {
   "display_name": "tf",
   "language": "python",
   "name": "python3"
  },
  "language_info": {
   "codemirror_mode": {
    "name": "ipython",
    "version": 3
   },
   "file_extension": ".py",
   "mimetype": "text/x-python",
   "name": "python",
   "nbconvert_exporter": "python",
   "pygments_lexer": "ipython3",
   "version": "3.9.16"
  },
  "orig_nbformat": 4
 },
 "nbformat": 4,
 "nbformat_minor": 2
}
